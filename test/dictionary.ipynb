{
 "cells": [
  {
   "cell_type": "code",
   "execution_count": 1,
   "metadata": {},
   "outputs": [],
   "source": [
    "import sys\n",
    "sys.path.append(\"../script/\")\n",
    "\n",
    "from sklearn.metrics import classification_report,accuracy_score\n",
    "from sklearn.model_selection import train_test_split\n",
    "import numpy as np\n",
    "import pandas as pd\n",
    "import importlib\n",
    "from time import time\n",
    "import Functions\n",
    "from matplotlib import pyplot as plt\n"
   ]
  },
  {
   "cell_type": "code",
   "execution_count": 2,
   "metadata": {},
   "outputs": [],
   "source": [
    "# ref from 2segp github\n",
    "# Classification dataset names - choose from following datasets \n",
    "\n",
    "CLASS_DATASET_NAMES = ['bcw','heart','iono','parks','sonar']\n",
    "dataset_name = CLASS_DATASET_NAMES[0]\n",
    "\n",
    "# Load the dataset\n",
    "Xy = np.genfromtxt('test_data/'+dataset_name+'.csv', delimiter=',')\n",
    "X = Xy[:, :-1]\n",
    "y = Xy[:, -1]   # last column is the label\n",
    "\n",
    "# simple operators\n",
    "boost_num = 1000\n",
    "\n",
    "seed = np.random.randint(9999999)\n",
    "X_train, X_test, y_train, y_test = train_test_split(X, y, test_size=0.3, random_state=seed)"
   ]
  },
  {
   "cell_type": "markdown",
   "metadata": {},
   "source": [
    "# Data"
   ]
  },
  {
   "cell_type": "code",
   "execution_count": 1353,
   "metadata": {},
   "outputs": [],
   "source": [
    "df = pd.read_csv('test_data/simple_line.csv')\n",
    "df['z'] = df['z'].replace('a',0)\n",
    "df['z'] = df['z'].replace('b',1)\n",
    "\n",
    "data = df.to_numpy()\n",
    "X = data[:,:-1]\n",
    "x = data[:,0]\n",
    "y = data[:,1]\n",
    "\n",
    "label = data[:,-1]\n",
    "\n",
    "# X_train,X_test,y_train,y_test = train_test_split(X,y,test_size=0.3)\n",
    "\n",
    "i = label == 0\n",
    "\n",
    "ax = data[i][:,0]\n",
    "ay = data[i][:,1]\n",
    "\n",
    "i = label == 1\n",
    "bx = data[i][:,0]\n",
    "by = data[i][:,1]"
   ]
  },
  {
   "cell_type": "code",
   "execution_count": 31,
   "metadata": {},
   "outputs": [],
   "source": [
    "n = 10000\n",
    "\n",
    "i = 5\n",
    "j = 2\n",
    "\n",
    "x = np.random.random(n)\n",
    "y = np.random.random(n)\n",
    "\n",
    "X = np.array([x,y]).T\n",
    "label = y < i*x**j\n",
    "\n",
    "index = y > (i*x**j + 0.1)\n",
    "ax = x[index]\n",
    "ay = y[index]\n",
    "\n",
    "index = y < (i*x**j - 0.1)\n",
    "bx = x[index]\n",
    "by = y[index]\n"
   ]
  },
  {
   "cell_type": "code",
   "execution_count": 32,
   "metadata": {},
   "outputs": [
    {
     "data": {
      "image/png": "[encoded data removed]",
      "text/plain": [
       "<Figure size 432x288 with 1 Axes>"
      ]
     },
     "metadata": {
      "needs_background": "light"
     },
     "output_type": "display_data"
    }
   ],
   "source": [
    "plt.scatter(ax,ay)\n",
    "plt.scatter(bx,by)\n",
    "plt.xticks([0,0.5,1])\n",
    "plt.yticks([0,0.5,1])\n",
    "plt.show()"
   ]
  },
  {
   "cell_type": "code",
   "execution_count": 40,
   "metadata": {},
   "outputs": [
    {
     "data": {
      "text/plain": [
       "array([[-0.99299466,  0.        ,  1.        ],\n",
       "       [-0.99286207,  1.        ,  1.        ],\n",
       "       [-0.98959522,  0.        ,  1.        ],\n",
       "       ...,\n",
       "       [-0.00225385,  1.        ,  1.        ],\n",
       "       [-0.00217299,  0.        ,  1.        ],\n",
       "       [        inf,  1.        ,  1.        ]])"
      ]
     },
     "execution_count": 40,
     "metadata": {},
     "output_type": "execute_result"
    }
   ],
   "source": [
    "bins"
   ]
  },
  {
   "cell_type": "code",
   "execution_count": 42,
   "metadata": {},
   "outputs": [
    {
     "data": {
      "image/png": "[encoded data removed]",
      "text/plain": [
       "<Figure size 432x288 with 1 Axes>"
      ]
     },
     "metadata": {
      "needs_background": "light"
     },
     "output_type": "display_data"
    },
    {
     "data": {
      "image/png": "[encoded data removed]",
      "text/plain": [
       "<Figure size 432x288 with 1 Axes>"
      ]
     },
     "metadata": {
      "needs_background": "light"
     },
     "output_type": "display_data"
    }
   ],
   "source": [
    "plt.hist(ax,bins=50,histtype='step')\n",
    "plt.hist(bx,bins=50,histtype='step')\n",
    "plt.show()\n",
    "\n",
    "plt.hist(ay,bins=50,histtype='step')\n",
    "plt.hist(by,bins=50,histtype='step')\n",
    "plt.show()"
   ]
  },
  {
   "cell_type": "markdown",
   "metadata": {},
   "source": [
    "# Test"
   ]
  },
  {
   "cell_type": "code",
   "execution_count": 34,
   "metadata": {},
   "outputs": [],
   "source": [
    "def calculate_fitness(val,label):\n",
    "    df = pd.DataFrame(val,columns=['value'])\n",
    "    df['label'] = label\n",
    "\n",
    "    items = df.value_counts(sort=False).iteritems()\n",
    "    (pv,pl),pc = next(items)\n",
    "\n",
    "    columns = []\n",
    "\n",
    "    col = [pv,pl,0,[0,0,0]]\n",
    "    col[3][pl] = pc\n",
    "    col[-2] += 1\n",
    "    swtich = 0\n",
    "\n",
    "\n",
    "    for (v,l),c in items:\n",
    "        if v != pv:\n",
    "            columns.append(col)        \n",
    "            col = [v,-1,0,[0,0,0]]\n",
    "        col[3][l] = c\n",
    "        if max(col[3]) == c:\n",
    "            col[1] = l\n",
    "        col[-2] += 1\n",
    "        pv = v\n",
    "\n",
    "    columns.append(col)\n",
    "\n",
    "    bins = []\n",
    "    bin = columns[0][:3]\n",
    "    counts = []\n",
    "    count = columns[0][3]\n",
    "\n",
    "    for i in range(1,len(columns)):\n",
    "        col = columns[i]\n",
    "        \n",
    "        if (col[1] != bin[1]) or ((bin[2] == 1) != (col[2] == 1)):\n",
    "            bin[0] = (bin[0]+col[0])/2\n",
    "            bins.append(bin)\n",
    "            counts.append(count)\n",
    "            \n",
    "            bin = col[:3]\n",
    "            count = col[3]\n",
    "        else:\n",
    "            for i in range(3):\n",
    "                count[i] += col[3][i]\n",
    "                bin[0] = col[0]\n",
    "    bin[0] = np.inf\n",
    "    bins.append(bin)\n",
    "    counts.append(count)\n",
    "\n",
    "    bins = np.array(bins)\n",
    "    counts = np.array(counts)\n",
    "    \n",
    "    return bins,counts"
   ]
  },
  {
   "cell_type": "code",
   "execution_count": 39,
   "metadata": {},
   "outputs": [
    {
     "name": "stdout",
     "output_type": "stream",
     "text": [
      "5 : 3911 10000.0 2.5568908207619536 1.0\n"
     ]
    },
    {
     "data": {
      "image/png": "[encoded data removed]",
      "text/plain": [
       "<Figure size 432x288 with 1 Axes>"
      ]
     },
     "metadata": {
      "needs_background": "light"
     },
     "output_type": "display_data"
    },
    {
     "name": "stdout",
     "output_type": "stream",
     "text": [
      "5 : 512 10000.0 19.53125 1.0\n"
     ]
    },
    {
     "data": {
      "image/png": "[encoded data removed]",
      "text/plain": [
       "<Figure size 432x288 with 1 Axes>"
      ]
     },
     "metadata": {
      "needs_background": "light"
     },
     "output_type": "display_data"
    },
    {
     "name": "stdout",
     "output_type": "stream",
     "text": [
      "5 : 2 10000.0 5000.0 1.0\n"
     ]
    },
    {
     "data": {
      "image/png": "[encoded data removed]",
      "text/plain": [
       "<Figure size 432x288 with 1 Axes>"
      ]
     },
     "metadata": {
      "needs_background": "light"
     },
     "output_type": "display_data"
    },
    {
     "name": "stdout",
     "output_type": "stream",
     "text": [
      "5 : 1090 10000.0 9.174311926605505 1.0\n"
     ]
    },
    {
     "data": {
      "image/png": "[encoded data removed]",
      "text/plain": [
       "<Figure size 432x288 with 1 Axes>"
      ]
     },
     "metadata": {
      "needs_background": "light"
     },
     "output_type": "display_data"
    },
    {
     "name": "stdout",
     "output_type": "stream",
     "text": [
      "5 : 1758 10000.0 5.688282138794084 1.0\n"
     ]
    },
    {
     "data": {
      "image/png": "[encoded data removed]",
      "text/plain": [
       "<Figure size 432x288 with 1 Axes>"
      ]
     },
     "metadata": {
      "needs_background": "light"
     },
     "output_type": "display_data"
    },
    {
     "name": "stdout",
     "output_type": "stream",
     "text": [
      "5 : 2334 10000.0 4.284490145672665 1.0\n"
     ]
    },
    {
     "data": {
      "image/png": "[encoded data removed]",
      "text/plain": [
       "<Figure size 432x288 with 1 Axes>"
      ]
     },
     "metadata": {
      "needs_background": "light"
     },
     "output_type": "display_data"
    },
    {
     "name": "stdout",
     "output_type": "stream",
     "text": [
      "5 : 2594 10000.0 3.8550501156515034 1.0\n"
     ]
    },
    {
     "data": {
      "image/png": "[encoded data removed]",
      "text/plain": [
       "<Figure size 432x288 with 1 Axes>"
      ]
     },
     "metadata": {
      "needs_background": "light"
     },
     "output_type": "display_data"
    },
    {
     "name": "stdout",
     "output_type": "stream",
     "text": [
      "5 : 2824 10000.0 3.5410764872521248 1.0\n"
     ]
    },
    {
     "data": {
      "image/png": "[encoded data removed]",
      "text/plain": [
       "<Figure size 432x288 with 1 Axes>"
      ]
     },
     "metadata": {
      "needs_background": "light"
     },
     "output_type": "display_data"
    },
    {
     "name": "stdout",
     "output_type": "stream",
     "text": [
      "5 : 2968 10000.0 3.3692722371967654 1.0\n"
     ]
    },
    {
     "data": {
      "image/png": "[encoded data removed]",
      "text/plain": [
       "<Figure size 432x288 with 1 Axes>"
      ]
     },
     "metadata": {
      "needs_background": "light"
     },
     "output_type": "display_data"
    },
    {
     "name": "stdout",
     "output_type": "stream",
     "text": [
      "5 : 3090 10000.0 3.236245954692557 1.0\n"
     ]
    },
    {
     "data": {
      "image/png": "[encoded data removed]",
      "text/plain": [
       "<Figure size 432x288 with 1 Axes>"
      ]
     },
     "metadata": {
      "needs_background": "light"
     },
     "output_type": "display_data"
    }
   ],
   "source": [
    "a = i\n",
    "b = j\n",
    "\n",
    "for b in range(10):\n",
    "    # val = i*x**j +x - y\n",
    "    val = a*x**b - y\n",
    "    av = val[label==True]\n",
    "    bv = val[label==False]\n",
    "    \n",
    "    bins,counts = calculate_fitness(val,label)\n",
    "\n",
    "    total = counts.sum(axis=1)\n",
    "    gini = np.sum((counts.T/total)**2,axis=0)\n",
    "    fitness = np.sum(gini * total)\n",
    "    print(a,\":\",len(bins),fitness,fitness/len(bins),fitness/sum(total))\n",
    "    \n",
    "    plt.hist(av,bins=100,histtype='step')\n",
    "    plt.hist(bv,bins=100,histtype='step')\n",
    "    plt.title(\"a = \"+str(a))\n",
    "    plt.show()"
   ]
  },
  {
   "cell_type": "code",
   "execution_count": 145,
   "metadata": {},
   "outputs": [
    {
     "data": {
      "text/plain": [
       "107    1\n",
       "352    1\n",
       "dtype: int64"
      ]
     },
     "execution_count": 145,
     "metadata": {},
     "output_type": "execute_result"
    }
   ],
   "source": [
    "pd.value_counts(X_train[0])"
   ]
  },
  {
   "cell_type": "markdown",
   "metadata": {},
   "source": [
    "# Engine"
   ]
  },
  {
   "cell_type": "code",
   "execution_count": 1335,
   "metadata": {},
   "outputs": [],
   "source": [
    "import numpy as np\n",
    "import pandas as pd\n",
    "from time import time\n",
    "from Node import Node"
   ]
  },
  {
   "cell_type": "code",
   "execution_count": 1532,
   "metadata": {},
   "outputs": [],
   "source": [
    "class Engine:\n",
    "    def __init__(self,opset,X,Y,log_odds,p,learning_rate):\n",
    "        self.generation = 0\n",
    "#         self.X_train,self.X_valid,self.y_train,self.y_valid = train_test_split(X,Y,train_size=0.9)\n",
    "        X = X.astype('float64')\n",
    "        Y = Y.astype('int')\n",
    "        self.opset = opset\n",
    "        \n",
    "        self.num_class = len(pd.unique(Y))\n",
    "        self.feature_space = X.shape[1]\n",
    "        \n",
    "        self.vals = X.T\n",
    "        self.X = X\n",
    "        self.Y = Y\n",
    "\n",
    "        self.log_odds = log_odds\n",
    "        self.p = p\n",
    "        self.residual = self.Y - p\n",
    "        self.learning_rate = learning_rate\n",
    "\n",
    "        self.count_label = pd.value_counts(Y).reset_index().values\n",
    "        \n",
    "        self.best = (np.inf,None)\n",
    "        self.nodes = [Node(True,index=i) for i in range(self.feature_space)]\n",
    "    def count_bins(self,val):\n",
    "        df = pd.DataFrame(val,columns=['value'])\n",
    "        df['label'] = self.Y\n",
    "\n",
    "        items = df.value_counts(sort=False).iteritems()\n",
    "        (pv,pl),pc = next(items)\n",
    "\n",
    "        columns = []\n",
    "\n",
    "        col = [pv,pl,0,[0,0,0]]\n",
    "        col[3][pl] = pc\n",
    "        col[-2] += 1\n",
    "        swtich = 0\n",
    "\n",
    "\n",
    "        for (v,l),c in items:\n",
    "            if v != pv:\n",
    "                columns.append(col)        \n",
    "                col = [v,-1,0,[0,0,0]]\n",
    "            col[3][l] = c\n",
    "            if max(col[3]) == c:\n",
    "                col[1] = l\n",
    "            col[-2] += 1\n",
    "            pv = v\n",
    "\n",
    "        columns.append(col)\n",
    "\n",
    "        bins = []\n",
    "        bin = columns[0][:3]\n",
    "        counts = []\n",
    "        count = columns[0][3]\n",
    "\n",
    "        for i in range(1,len(columns)):\n",
    "            col = columns[i]\n",
    "            \n",
    "            if (col[1] != bin[1]) or ((bin[2] == 1) != (col[2] == 1)):\n",
    "                bin[0] = (bin[0]+col[0])/2\n",
    "                bins.append(bin)\n",
    "                counts.append(count)\n",
    "                \n",
    "                bin = col[:3]\n",
    "                count = col[3]\n",
    "            else:\n",
    "                for i in range(3):\n",
    "                    count[i] += col[3][i]\n",
    "                    bin[0] = col[0]\n",
    "        bin[0] = np.inf\n",
    "        bins.append(bin)\n",
    "        counts.append(count)\n",
    "\n",
    "        bins = np.array(bins)\n",
    "        counts = np.array(counts)\n",
    "        \n",
    "        return bins,counts\n",
    "    \n",
    "    def loss(self,vals,numbins,beta):\n",
    "        fitness = []\n",
    "        \n",
    "        for val in vals:\n",
    "            \n",
    "            bins,counts = self.count_bins(val)\n",
    "            total = counts.sum(axis=1)\n",
    "            gini = np.sum((counts.T/total)**2,axis=0)\n",
    "            \n",
    "            fitness.append(beta[0]*-np.sum(gini * total)/sum(total) + beta[1] * len(bins)/10000)\n",
    "            \n",
    "        return fitness\n",
    "    \n",
    "    def evolve(self,total_size,batch_size,elite_size,bins,beta,verbose):\n",
    "        self.generation += 1\n",
    "        \n",
    "        if verbose:\n",
    "            print(\"\\tgeneration:\",self.generation)\n",
    "            t = time()\n",
    "        \n",
    "        num_batches = total_size//batch_size\n",
    "        pool = self.nodes\n",
    "\n",
    "        elites_funcs = []\n",
    "        elite_sons = []\n",
    "        elite_vals = []\n",
    "\n",
    "        elites_fitness = []\n",
    "        for j in range(num_batches):\n",
    "\n",
    "            funcs = np.random.choice(list(self.opset.keys()),size=batch_size)\n",
    "            arg_count = [self.opset[func] for func in funcs]\n",
    "            sons = np.random.choice(pool,size = sum(arg_count))\n",
    "            it = iter(sons)\n",
    "            sons = [[next(it) for _ in range(arg_count[i])] for i in range(batch_size)]\n",
    "            vals = [funcs[i]([self.vals[s.index] for s in sons[i]]) for i in range(batch_size)]\n",
    "\n",
    "            vals = np.stack(vals)\n",
    "            fitness = self.loss(vals,bins,beta)\n",
    "            \n",
    "            elites_funcs.extend(funcs)\n",
    "            elite_sons.extend(sons)\n",
    "            elite_vals.extend(vals)\n",
    "            elites_fitness.extend(fitness)\n",
    "\n",
    "            rank = np.argsort(elites_fitness)\n",
    "\n",
    "            elites_funcs = [elites_funcs[index] for index in rank[:elite_size]]\n",
    "            elite_sons = [elite_sons[index] for index in rank[:elite_size]]\n",
    "            elite_vals = [elite_vals[index] for index in rank[:elite_size]]\n",
    "            elites_fitness = [elites_fitness[index] for index in rank[:elite_size]]\n",
    "\n",
    "        for index in range(elite_size):\n",
    "            node = Node(False,\n",
    "                func=elites_funcs[index],\n",
    "                sons=elite_sons[index],\n",
    "                index=len(self.nodes),\n",
    "                fit=elites_fitness[index] \n",
    "            )\n",
    "            \n",
    "            self.nodes.append(node)\n",
    "            self.vals = np.append(self.vals,[elite_vals[index]],axis=0)\n",
    "            \n",
    "            if index == 0:\n",
    "                if self.best[0] > node.fitness:\n",
    "                    val = elite_vals[index]\n",
    "                    b,counts = self.count_bins(val)\n",
    "                    \n",
    "                    self.best = (node.fitness,node,b)\n",
    "            # self.test_param_same(node)\n",
    "      \n",
    "\n",
    "        if verbose:\n",
    "            print(\"\\t\",np.min(elites_fitness))\n",
    "            print(\"\\ttime\",time()-t)\n",
    "        return None\n",
    "\n",
    "    def test_param_same(self,node):\n",
    "        v1 = node.predict(self.X)\n",
    "        v2 = self.vals[node.index]\n",
    "        if np.any(v1!=v2):\n",
    "            print(node.index,v1==v2)"
   ]
  },
  {
   "cell_type": "code",
   "execution_count": 1546,
   "metadata": {},
   "outputs": [
    {
     "name": "stdout",
     "output_type": "stream",
     "text": [
      "\tgeneration: 1\n",
      "\t -0.62792312\n",
      "\ttime 1.2439846992492676\n",
      "\tgeneration: 2\n",
      "\t -0.9235\n",
      "\ttime 1.3201911449432373\n",
      "\tgeneration: 3\n",
      "\t -0.8205\n",
      "\ttime 0.6948196887969971\n",
      "\tgeneration: 4\n",
      "\t -0.9235\n",
      "\ttime 0.8775687217712402\n",
      "\tgeneration: 5\n",
      "\t -0.8365\n",
      "\ttime 0.8775420188903809\n",
      "\tgeneration: 6\n",
      "\t -0.9235\n",
      "\ttime 1.0533287525177002\n",
      "\tgeneration: 7\n",
      "\t -0.9255\n",
      "\ttime 1.255786418914795\n",
      "\tgeneration: 8\n",
      "\t -0.8985\n",
      "\ttime 0.9738717079162598\n",
      "\tgeneration: 9\n",
      "\t -0.924\n",
      "\ttime 1.1249384880065918\n",
      "\tgeneration: 10\n",
      "\t -0.921\n",
      "\ttime 1.1185195446014404\n"
     ]
    }
   ],
   "source": [
    "eg = Engine(Functions.simple_opset,X,label,init_log_odds,init_p,0)\n",
    "for i in range(10):\n",
    "    eg.evolve(30,30,10,2,[1,5,0],1)"
   ]
  },
  {
   "cell_type": "code",
   "execution_count": 1547,
   "metadata": {},
   "outputs": [
    {
     "data": {
      "text/plain": [
       "((-0.9255,\n",
       "  ( _minus -> ( _minus -> ( _divide -> ( _minus -> |0| |1| ) ( _minus -> |0| |0| ) ) ( _minus -> ( _divide -> ( _minus -> |0| |1| ) ( _multiply -> |0| |0| ) ) ( _add -> ( _divide -> ( _divide -> |0| |0| ) ( _minus -> |0| |0| ) ) ( _divide -> ( _minus -> |0| |0| ) ( _divide -> |0| |0| ) ) ) ) ) ( _divide -> ( _multiply -> |0| |0| ) ( _minus -> ( _add -> ( _add -> |0| |0| ) ( _divide -> ( _add -> |0| |0| ) ( _add -> |0| ( _minus -> |0| |1| ) ) ) ) ( _divide -> ( _divide -> |0| |0| ) ( _minus -> |0| |0| ) ) ) ) )),\n",
       " 149)"
      ]
     },
     "execution_count": 1547,
     "metadata": {},
     "output_type": "execute_result"
    }
   ],
   "source": [
    "eg.best[:2],len(eg.best[2])"
   ]
  },
  {
   "cell_type": "code",
   "execution_count": 1548,
   "metadata": {},
   "outputs": [
    {
     "data": {
      "image/png": "[encoded data removed]",
      "text/plain": [
       "<Figure size 432x288 with 1 Axes>"
      ]
     },
     "metadata": {
      "needs_background": "light"
     },
     "output_type": "display_data"
    }
   ],
   "source": [
    "val = eg.vals[eg.best[1].index]\n",
    "av = val[label==True]\n",
    "bv = val[label==False]\n",
    "\n",
    "# plt.hist(av,bins=100,histtype='step')\n",
    "# plt.show()\n",
    "# plt.hist(bv,bins=100,histtype='step')\n",
    "plt.hist(av,bins=100,histtype='step',range=(-4,40))\n",
    "plt.hist(bv,bins=100,histtype='step',range=(-4,40))\n",
    "plt.show()"
   ]
  },
  {
   "cell_type": "code",
   "execution_count": null,
   "metadata": {},
   "outputs": [],
   "source": []
  }
 ],
 "metadata": {
  "kernelspec": {
   "display_name": "Python 3.8.6 ('tensor_gp')",
   "language": "python",
   "name": "python3"
  },
  "language_info": {
   "codemirror_mode": {
    "name": "ipython",
    "version": 3
   },
   "file_extension": ".py",
   "mimetype": "text/x-python",
   "name": "python",
   "nbconvert_exporter": "python",
   "pygments_lexer": "ipython3",
   "version": "3.11.0"
  },
  "orig_nbformat": 4,
  "vscode": {
   "interpreter": {
    "hash": "896880215cde5e09b41efabef2e239b6cc79dad31f917f21992b8447ccaaac59"
   }
  }
 },
 "nbformat": 4,
 "nbformat_minor": 2
}
