{
 "cells": [
  {
   "cell_type": "code",
   "execution_count": 1,
   "id": "8a8bc990-ebc5-46bd-bab4-f4091ce5b834",
   "metadata": {},
   "outputs": [],
   "source": [
    "import sys\n",
    "sys.path.append(\"../script/\")\n",
    "\n",
    "import Functions\n",
    "from Engine import Engine\n",
    "\n",
    "\n",
    "from sklearn.metrics import classification_report,accuracy_score\n",
    "from sklearn.model_selection import train_test_split\n",
    "import numpy as np\n",
    "import importlib\n",
    "from time import time\n",
    "from matplotlib import pyplot as plt\n",
    "from sklearn.preprocessing import LabelEncoder,OneHotEncoder\n",
    "import numpy as np\n",
    "import pandas as pd\n",
    "from time import time"
   ]
  },
  {
   "cell_type": "code",
   "execution_count": 2,
   "id": "cbad47da",
   "metadata": {},
   "outputs": [],
   "source": [
    "from sklearn.metrics import roc_auc_score, roc_curve\n",
    "from sklearn.utils import shuffle\n",
    "def plot_roc_curve(true_y, y_prob):\n",
    "    \"\"\"\n",
    "    plots the roc curve based of the probabilities\n",
    "    \"\"\"\n",
    "    \n",
    "    fpr, tpr, thresholds = roc_curve(true_y, y_prob)\n",
    "    plt.plot(fpr, tpr)\n",
    "    plt.xlabel('False Positive Rate')\n",
    "    plt.ylabel('True Positive Rate')\n",
    "    print(roc_auc_score(true_y,prob[:,1]))"
   ]
  },
  {
   "cell_type": "markdown",
   "id": "c114de92",
   "metadata": {},
   "source": [
    "# data"
   ]
  },
  {
   "cell_type": "code",
   "execution_count": 4,
   "id": "b52ff245",
   "metadata": {},
   "outputs": [],
   "source": [
    "# ref from 2segp github\n",
    "# Classification dataset names - choose from following datasets \n",
    "\n",
    "CLASS_DATASET_NAMES = ['bcw','heart','iono','parks','sonar']\n",
    "dataset_name = CLASS_DATASET_NAMES[2]\n",
    "\n",
    "\n",
    "# Load the dataset\n",
    "Xy = np.genfromtxt('test_data/'+dataset_name+'.csv', delimiter=',')\n",
    "X = Xy[:, :-1]\n",
    "y = Xy[:, -1]   # last column is the label\n",
    "\n",
    "# simple operators\n",
    "\n",
    "boost_num = 1000\n",
    "\n",
    "seed = np.random.randint(9999999)\n",
    "X_train, X_test, y_train, y_test = train_test_split(X, y, test_size=0.3, random_state=seed)"
   ]
  },
  {
   "cell_type": "markdown",
   "id": "ecdd30c5",
   "metadata": {},
   "source": [
    "# model"
   ]
  },
  {
   "cell_type": "code",
   "execution_count": 5,
   "id": "34565780",
   "metadata": {},
   "outputs": [],
   "source": [
    "def to_one_hot(y,yt):\n",
    "    le = LabelEncoder()\n",
    "    ohe = OneHotEncoder()\n",
    "    y_train = le.fit_transform(y)\n",
    "    y_one_hot = ohe.fit_transform(y_train.reshape(-1,1))\n",
    "    \n",
    "    y_test = le.transform(yt)\n",
    "    yt_one_hot = ohe.transform(y_test.reshape(-1,1))\n",
    "    \n",
    "    return y_train,y_test,y_one_hot,yt_one_hot\n",
    "\n",
    "def initial(y_one_hot):\n",
    "    init_log_odds = np.sum(y_one_hot,axis=0)/y_one_hot.shape[0]\n",
    "    \n",
    "    init_p = np.exp(init_log_odds)\n",
    "    init_p = init_p/(1+init_p)\n",
    "\n",
    "    return init_log_odds,init_p\n",
    "\n",
    "def initial_first_bin(init_log_odds,init_p,X):\n",
    "    log_odds = np.repeat(init_log_odds,X.shape[0],0)\n",
    "    p = np.repeat(init_p,X.shape[0],0)\n",
    "    \n",
    "    return log_odds,p\n",
    "    \n",
    "def update_log_p(grads,log_odds,p,learning_rate):\n",
    "    log_odds_1 = log_odds + learning_rate * grads\n",
    "    \n",
    "    p_1 = np.exp(log_odds_1,where=log_odds_1 < 16,out=np.zeros(log_odds_1.shape)+16)\n",
    "    p_1 = np.divide(p_1,(1+p_1),where=p_1 < 16,out=np.ones(p_1.shape))\n",
    "    \n",
    "    # p_1 = np.exp(log_odds_1)\n",
    "    # p_1 = np.divide(p_1,(1+p_1))\n",
    "\n",
    "    return log_odds_1,p_1\n",
    "\n",
    "def predict(X,init_log_odds,init_p,learning_rate,stack):\n",
    "    log_odds,p = initial_first_bin(init_log_odds,init_p,X)\n",
    "\n",
    "    for node in stack:\n",
    "        grads = node.predict_grad(X)\n",
    "        \n",
    "        log_odds,p = update_log_p(grads,log_odds,p,learning_rate)\n",
    "    return p"
   ]
  },
  {
   "cell_type": "code",
   "execution_count": 6,
   "id": "3fd6496a",
   "metadata": {},
   "outputs": [],
   "source": [
    "train_acc = []\n",
    "test_acc = []\n",
    "\n",
    "stack = []\n",
    "\n",
    "y_train,y_test,y_train_one_hot,y_test_one_hot = to_one_hot(y_train,y_test)\n",
    "\n",
    "init_log_odds,init_p = initial(y_train_one_hot)\n",
    "log_odds,p = initial_first_bin(init_log_odds,init_p,X_train)\n",
    "\n",
    "test_log_odds,test_p = initial_first_bin(init_log_odds,init_p,X_test)"
   ]
  },
  {
   "cell_type": "code",
   "execution_count": 35,
   "id": "051899eb",
   "metadata": {},
   "outputs": [
    {
     "name": "stdout",
     "output_type": "stream",
     "text": [
      "39 49 0\n",
      "47 91 1\n",
      "50 96 2\n",
      "52 102 3\n",
      "54 110 4\n",
      "54 110 5\n",
      "57 121 6\n",
      "58 116 7\n",
      "59 119 8\n",
      "59 119 9\n",
      "60 124 10\n",
      "63 137 11\n",
      "64 140 12\n",
      "66 140 13\n",
      "67 143 14\n",
      "68 146 15\n",
      "69 149 16\n",
      "72 158 17\n",
      "72 158 18\n",
      "73 159 19\n",
      "74 162 20\n",
      "74 162 21\n",
      "74 160 22\n",
      "74 160 23\n",
      "74 160 24\n",
      "74 160 25\n",
      "74 160 26\n",
      "75 163 27\n",
      "77 169 28\n",
      "77 169 29\n",
      "78 174 30\n",
      "79 179 31\n",
      "79 179 32\n",
      "81 191 33\n",
      "81 191 34\n",
      "83 199 35\n",
      "84 200 36\n",
      "84 200 37\n",
      "84 200 38\n",
      "85 205 39\n",
      "87 211 40\n",
      "89 227 41\n",
      "90 230 42\n",
      "90 230 43\n",
      "91 233 44\n",
      "92 236 45\n",
      "92 234 46\n",
      "93 237 47\n",
      "93 237 48\n",
      "95 241 49\n",
      "95 241 50\n",
      "95 239 51\n",
      "96 240 52\n",
      "97 243 53\n",
      "97 243 54\n",
      "97 243 55\n",
      "97 243 56\n",
      "97 243 57\n",
      "97 243 58\n",
      "97 243 59\n",
      "97 243 60\n",
      "97 243 61\n",
      "97 243 62\n",
      "97 243 63\n",
      "97 243 64\n",
      "97 243 65\n",
      "97 243 66\n",
      "97 243 67\n",
      "97 243 68\n",
      "97 243 69\n",
      "97 243 70\n",
      "97 243 71\n",
      "97 243 72\n",
      "97 243 73\n",
      "99 259 74\n",
      "100 264 75\n",
      "101 271 76\n",
      "101 271 77\n",
      "101 271 78\n",
      "101 271 79\n",
      "101 271 80\n",
      "101 271 81\n",
      "101 271 82\n",
      "101 271 83\n",
      "102 274 84\n",
      "103 277 85\n",
      "103 277 86\n",
      "103 277 87\n",
      "103 277 88\n",
      "103 277 89\n",
      "103 277 90\n",
      "104 282 91\n",
      "104 282 92\n",
      "104 282 93\n",
      "106 296 94\n",
      "106 296 95\n",
      "105 287 96\n",
      "108 300 97\n",
      "108 300 98\n",
      "108 300 99\n"
     ]
    }
   ],
   "source": [
    "learning_rate = 0.1\n",
    "bins = 2\n",
    "lam = 3\n",
    "stack = []\n",
    "losses = []\n",
    "num_features = X_train.shape[1]\n",
    "\n",
    "max_depth = 1\n",
    "tolerance = 0.01\n",
    "\n",
    "\n",
    "total_size = 10\n",
    "elite_size = 10\n",
    "\n",
    "eg = Engine(Functions.simple_opset,X_train,y_train,y_train_one_hot,learning_rate,bins,max_depth,lam)\n",
    "eg.initialize_nodes(log_odds,p)\n",
    "origin_features = eg.nodes.copy()\n",
    "origin_losses = eg.losses.copy()\n",
    "stack.extend(eg.nodes)\n",
    "losses.extend(origin_losses)\n",
    "\n",
    "for i in range(100):\n",
    "    for j in range(6):\n",
    "        eg.evolve(total_size,elite_size,log_odds=log_odds,p=p,tolerance=tolerance,verbose=0)\n",
    "    stack,losses = eg.adding_unique_node(stack,losses,eg.nodes[num_features:],tolerance=tolerance)\n",
    "    eg.nodes = origin_features.copy()\n",
    "    eg.losses = origin_losses.copy()\n",
    "    print(len(stack),sum([n.numNode for n in stack]),i)\n",
    "    # if len(stack) > 8000:\n",
    "    #         break\n"
   ]
  },
  {
   "cell_type": "code",
   "execution_count": 39,
   "id": "fc38207b",
   "metadata": {},
   "outputs": [
    {
     "name": "stdout",
     "output_type": "stream",
     "text": [
      "0.9510204081632653 0.9056603773584906 0.9150943396226415\n",
      "21.219109795540398 15.528666984326339 15.4937540768973\n",
      "0.9714285714285714 0.9150943396226415 0.9150943396226415\n",
      "14.598745852978482 14.123618784975546 14.006716633352895\n",
      "0.9714285714285714 0.9150943396226415 0.9150943396226415\n",
      "12.059400996536642 13.872956381434213 13.766623098628097\n",
      "0.9755102040816327 0.9150943396226415 0.9150943396226415\n",
      "10.482075405487024 13.821878654245685 13.746315830687426\n",
      "0.9795918367346939 0.9150943396226415 0.9150943396226415\n",
      "9.29952841610719 13.895376800571825 13.746315830687426\n",
      "0.9795918367346939 0.9150943396226415 0.9150943396226415\n",
      "8.31497726319915 13.851647865870207 13.746315830687426\n",
      "0.9877551020408163 0.9150943396226415 0.9150943396226415\n",
      "7.505893662532075 13.835580207092999 13.746315830687426\n",
      "0.9877551020408163 0.9150943396226415 0.9150943396226415\n",
      "6.797938224051717 13.826506052394596 13.746315830687426\n",
      "0.9877551020408163 0.9150943396226415 0.9150943396226415\n",
      "6.174932762964741 13.825973906179758 13.746315830687426\n",
      "0.9877551020408163 0.9245283018867925 0.9245283018867925\n",
      "5.643433976644083 13.830797433826348 13.746315830687426\n",
      "0.9877551020408163 0.9245283018867925 0.9245283018867925\n",
      "5.156252649442574 13.81803844383541 13.746315830687426\n",
      "0.9918367346938776 0.9245283018867925 0.9245283018867925\n",
      "4.7373484399805506 13.813979452581716 13.746315830687426\n",
      "0.9918367346938776 0.9245283018867925 0.9245283018867925\n",
      "4.368338028374204 13.805311230497583 13.746315830687426\n",
      "0.9918367346938776 0.9245283018867925 0.9245283018867925\n",
      "4.040852158836195 13.801352985777932 13.746315830687426\n",
      "0.9918367346938776 0.9245283018867925 0.9245283018867925\n",
      "3.75126038298047 13.794517625955804 13.746315830687426\n",
      "0.9918367346938776 0.9245283018867925 0.9245283018867925\n",
      "3.486320234732878 13.791968480031871 13.746315830687426\n",
      "0.9918367346938776 0.9245283018867925 0.9245283018867925\n",
      "3.247659890548022 13.784311691724337 13.746315830687426\n",
      "0.9918367346938776 0.9245283018867925 0.9245283018867925\n",
      "3.0361777167458777 13.787790152288052 13.746315830687426\n",
      "0.9918367346938776 0.9245283018867925 0.9245283018867925\n",
      "2.837359528336909 13.789282188657737 13.746315830687426\n",
      "0.9918367346938776 0.9245283018867925 0.9245283018867925\n",
      "2.658588695243073 13.791227959343182 13.746315830687426\n"
     ]
    },
    {
     "data": {
      "image/png": "[encoded data removed]",
      "text/plain": [
       "<Figure size 640x480 with 1 Axes>"
      ]
     },
     "metadata": {},
     "output_type": "display_data"
    }
   ],
   "source": [
    "def training_data(node,y_train_one_hot,log_odds,p,test_log_odds=None,test_p=None):\n",
    "    grads = node.estimator.set_grads_bin(y_train_one_hot-p,p)\n",
    "    log_odds,p = update_log_p(grads,log_odds,p,learning_rate)\n",
    "\n",
    "    if test_log_odds != None:\n",
    "        test_grads = node.predict_grad(X_test)\n",
    "        test_log_odds,test_p = update_log_p(test_grads,test_log_odds,test_p,learning_rate)\n",
    "\n",
    "        return log_odds,p,test_log_odds,test_p\n",
    "    \n",
    "    return log_odds,p\n",
    "\n",
    "def get_order(stack,y_train_one_hot,log_odds,p,previous_sse):\n",
    "    score = []\n",
    "    \n",
    "    for node in stack:\n",
    "        log_odds,p = training_data(node,y_train_one_hot,log_odds,p)\n",
    "        \n",
    "        sse = np.sum(np.power(y_train_one_hot - p,2))\n",
    "        score.append(previous_sse - sse)\n",
    "        previous_sse = sse\n",
    "    \n",
    "    return [stack[i] for i in np.argsort(score)[::-1]]\n",
    "\n",
    "y_train,y_test,y_train_one_hot,y_test_one_hot = to_one_hot(y_train,y_test)\n",
    "\n",
    "fits = [i.estimator.loss for i in stack]\n",
    "a = [stack[i] for i in np.argsort(fits)]\n",
    "\n",
    "log_odds,p = initial_first_bin(init_log_odds,init_p,X_train)\n",
    "test_log_odds,test_p = initial_first_bin(init_log_odds,init_p,X_test)\n",
    "\n",
    "# a = get_order(a,y_train_one_hot,log_odds,p,previous_sse=np.sum(np.power(y_train_one_hot - p,2)))\n",
    "\n",
    "train_acc = []\n",
    "test_acc = []\n",
    "\n",
    "train_sse = []\n",
    "test_sse = []\n",
    "\n",
    "\n",
    "counts = []\n",
    "\n",
    "for _ in range(20):\n",
    "    score = []\n",
    "    \n",
    "    for i,node in enumerate(a):\n",
    "        # node.estimator.lam = 3\n",
    "        grads = node.estimator.set_grads_bin(y_train_one_hot-p,p)\n",
    "        log_odds,p = update_log_p(grads,log_odds,p,learning_rate)\n",
    "\n",
    "        test_grads = node.predict_grad(X_test)\n",
    "        test_log_odds,test_p = update_log_p(test_grads,test_log_odds,test_p,learning_rate)\n",
    "\n",
    "\n",
    "        train_sse.append(np.sum(np.power(y_train_one_hot - p,2)))\n",
    "        test_sse.append(np.sum(np.power(y_test_one_hot - test_p,2)))\n",
    "        # score.append(previous_sse - train_sse[-1])\n",
    "        # previous_sse = train_sse[-1]\n",
    "\n",
    "\n",
    "        pred = np.argmax(p,axis=1)\n",
    "        train_acc.append(accuracy_score(pred,y_train))\n",
    "        test_pred = np.argmax(test_p,axis=1)\n",
    "        test_acc.append(accuracy_score(test_pred,y_test))\n",
    "    \n",
    "    # a = [a[i] for i in np.argsort(score)[::-1]]\n",
    "\n",
    "    plt.plot(train_acc)\n",
    "    plt.plot(test_acc)\n",
    "    print(train_acc[-1],test_acc[-1],max(test_acc))\n",
    "\n",
    "    # plt.plot(train_sse)\n",
    "    # plt.plot(test_sse)\n",
    "    print(train_sse[-1],test_sse[-1],min(test_sse))\n",
    "\n",
    "    # plt.legend([\"train\",\"test\"])\n",
    "    # plt.show()\n",
    "    "
   ]
  },
  {
   "cell_type": "code",
   "execution_count": 40,
   "id": "48f0a622",
   "metadata": {},
   "outputs": [
    {
     "data": {
      "text/plain": [
       "300"
      ]
     },
     "execution_count": 40,
     "metadata": {},
     "output_type": "execute_result"
    }
   ],
   "source": [
    "sum([n.numNode for n in stack])"
   ]
  },
  {
   "cell_type": "code",
   "execution_count": 41,
   "id": "e3671a28",
   "metadata": {},
   "outputs": [
    {
     "name": "stdout",
     "output_type": "stream",
     "text": [
      "              precision    recall  f1-score   support\n",
      "\n",
      "           0    1.00000   0.97619   0.98795        84\n",
      "           1    0.98773   1.00000   0.99383       161\n",
      "\n",
      "    accuracy                        0.99184       245\n",
      "   macro avg    0.99387   0.98810   0.99089       245\n",
      "weighted avg    0.99194   0.99184   0.99181       245\n",
      "\n",
      "              precision    recall  f1-score   support\n",
      "\n",
      "           0    1.00000   0.80952   0.89474        42\n",
      "           1    0.88889   1.00000   0.94118        64\n",
      "\n",
      "    accuracy                        0.92453       106\n",
      "   macro avg    0.94444   0.90476   0.91796       106\n",
      "weighted avg    0.93291   0.92453   0.92278       106\n",
      "\n"
     ]
    },
    {
     "data": {
      "image/png": "[encoded data removed]",
      "text/plain": [
       "<Figure size 640x480 with 1 Axes>"
      ]
     },
     "metadata": {},
     "output_type": "display_data"
    }
   ],
   "source": [
    "plt.plot(train_sse)\n",
    "plt.plot(test_sse)\n",
    "plt.legend([\"train\",\"test\"])    \n",
    "print(classification_report(y_train,np.argmax(p,axis=1),digits=5))\n",
    "print(classification_report(y_test,np.argmax(test_p,axis=1),digits=5))"
   ]
  },
  {
   "cell_type": "markdown",
   "id": "662e91a5",
   "metadata": {},
   "source": [
    "# Decision Tree"
   ]
  },
  {
   "cell_type": "code",
   "execution_count": 24,
   "id": "4ed15d04",
   "metadata": {},
   "outputs": [],
   "source": [
    "from sklearn.tree import DecisionTreeClassifier"
   ]
  },
  {
   "cell_type": "code",
   "execution_count": 25,
   "id": "661630ef",
   "metadata": {},
   "outputs": [
    {
     "name": "stdout",
     "output_type": "stream",
     "text": [
      "              precision    recall  f1-score   support\n",
      "\n",
      "           0       1.00      1.00      1.00        84\n",
      "           1       1.00      1.00      1.00       161\n",
      "\n",
      "    accuracy                           1.00       245\n",
      "   macro avg       1.00      1.00      1.00       245\n",
      "weighted avg       1.00      1.00      1.00       245\n",
      "\n",
      "              precision    recall  f1-score   support\n",
      "\n",
      "           0       0.88      0.83      0.85        42\n",
      "           1       0.89      0.92      0.91        64\n",
      "\n",
      "    accuracy                           0.89       106\n",
      "   macro avg       0.88      0.88      0.88       106\n",
      "weighted avg       0.89      0.89      0.89       106\n",
      "\n"
     ]
    }
   ],
   "source": [
    "clf = DecisionTreeClassifier()\n",
    "clf.fit(X_train,y_train)\n",
    "\n",
    "print(classification_report(y_train,clf.predict(X_train)))\n",
    "print(classification_report(y_test,clf.predict(X_test)))"
   ]
  },
  {
   "cell_type": "markdown",
   "id": "63afbae1",
   "metadata": {},
   "source": [
    "# XGBoost"
   ]
  },
  {
   "cell_type": "code",
   "execution_count": 26,
   "id": "28fa8541",
   "metadata": {},
   "outputs": [],
   "source": [
    "import xgboost\n"
   ]
  },
  {
   "cell_type": "code",
   "execution_count": 27,
   "id": "acfdd7c8",
   "metadata": {},
   "outputs": [
    {
     "name": "stdout",
     "output_type": "stream",
     "text": [
      "              precision    recall  f1-score   support\n",
      "\n",
      "           0    1.00000   1.00000   1.00000        84\n",
      "           1    1.00000   1.00000   1.00000       161\n",
      "\n",
      "    accuracy                        1.00000       245\n",
      "   macro avg    1.00000   1.00000   1.00000       245\n",
      "weighted avg    1.00000   1.00000   1.00000       245\n",
      "\n",
      "              precision    recall  f1-score   support\n",
      "\n",
      "           0    0.89744   0.83333   0.86420        42\n",
      "           1    0.89552   0.93750   0.91603        64\n",
      "\n",
      "    accuracy                        0.89623       106\n",
      "   macro avg    0.89648   0.88542   0.89011       106\n",
      "weighted avg    0.89628   0.89623   0.89549       106\n",
      "\n",
      "train: 0.22912939505326296\n",
      "test: 19.980579784435132\n"
     ]
    },
    {
     "data": {
      "text/plain": [
       "(100, 2.12, 616)"
      ]
     },
     "execution_count": 27,
     "metadata": {},
     "output_type": "execute_result"
    }
   ],
   "source": [
    "xgb = xgboost.XGBClassifier()\n",
    "xgb.fit(X_train,y_train)\n",
    "\n",
    "print(classification_report(y_train,xgb.predict(X_train),digits=5))\n",
    "print(classification_report(y_test,xgb.predict(X_test),digits=5))\n",
    "print(\"train:\",np.sum(np.power(y_train_one_hot - xgb.predict_proba(X_train),2)))\n",
    "print(\"test:\",np.sum(np.power(y_test_one_hot - xgb.predict_proba(X_test),2)))\n",
    "\n",
    "import json\n",
    "\n",
    "def item_generator(json_input, lookup_key):\n",
    "    if isinstance(json_input, dict):\n",
    "        for k, v in json_input.items():\n",
    "            if k == lookup_key:\n",
    "                yield v\n",
    "            else:\n",
    "                yield from item_generator(v, lookup_key)\n",
    "    elif isinstance(json_input, list):\n",
    "        for item in json_input:\n",
    "            yield from item_generator(item, lookup_key)\n",
    "\n",
    "def tree_depth(json_text):\n",
    "    json_input = json.loads(json_text)\n",
    "    depths = list(item_generator(json_input, 'depth'))\n",
    "    return max(depths) + 1 if len(depths) != 0 else 1\n",
    "\n",
    "\n",
    "booster = xgb.get_booster()\n",
    "\n",
    "tree_df = booster.trees_to_dataframe()\n",
    "depths = [tree_depth(x) for x in booster.get_dump(dump_format = \"json\")]\n",
    "len(depths),np.average(depths),len(tree_df)"
   ]
  },
  {
   "cell_type": "markdown",
   "id": "dc363f99",
   "metadata": {},
   "source": [
    "# GDBT"
   ]
  },
  {
   "cell_type": "code",
   "execution_count": 28,
   "id": "6e6d3435",
   "metadata": {},
   "outputs": [],
   "source": [
    "from sklearn.ensemble import GradientBoostingClassifier"
   ]
  },
  {
   "cell_type": "code",
   "execution_count": 29,
   "id": "ef69c1d8",
   "metadata": {},
   "outputs": [
    {
     "name": "stdout",
     "output_type": "stream",
     "text": [
      "              precision    recall  f1-score   support\n",
      "\n",
      "           0    1.00000   1.00000   1.00000        84\n",
      "           1    1.00000   1.00000   1.00000       161\n",
      "\n",
      "    accuracy                        1.00000       245\n",
      "   macro avg    1.00000   1.00000   1.00000       245\n",
      "weighted avg    1.00000   1.00000   1.00000       245\n",
      "\n",
      "              precision    recall  f1-score   support\n",
      "\n",
      "           0    0.97143   0.80952   0.88312        42\n",
      "           1    0.88732   0.98438   0.93333        64\n",
      "\n",
      "    accuracy                        0.91509       106\n",
      "   macro avg    0.92938   0.89695   0.90823       106\n",
      "weighted avg    0.92065   0.91509   0.91344       106\n",
      "\n",
      "train: 0.03007644601307774\n",
      "test: 16.88426528103971\n"
     ]
    },
    {
     "data": {
      "text/plain": [
       "(100, 1430)"
      ]
     },
     "execution_count": 29,
     "metadata": {},
     "output_type": "execute_result"
    }
   ],
   "source": [
    "clf = GradientBoostingClassifier()\n",
    "clf.fit(X_train,y_train)\n",
    "\n",
    "print(classification_report(y_train,clf.predict(X_train),digits=5))\n",
    "print(classification_report(y_test,clf.predict(X_test),digits=5))\n",
    "print(\"train:\",np.sum(np.power(y_train_one_hot - clf.predict_proba(X_train),2)))\n",
    "print(\"test:\",np.sum(np.power(y_test_one_hot - clf.predict_proba(X_test),2)))\n",
    "\n",
    "len(clf.estimators_),sum([ est.tree_.node_count for ests in clf.estimators_ for est in ests])"
   ]
  },
  {
   "cell_type": "code",
   "execution_count": null,
   "id": "28c6651e",
   "metadata": {},
   "outputs": [],
   "source": []
  }
 ],
 "metadata": {
  "kernelspec": {
   "display_name": "BStackGP",
   "language": "python",
   "name": "python3"
  },
  "language_info": {
   "codemirror_mode": {
    "name": "ipython",
    "version": 3
   },
   "file_extension": ".py",
   "mimetype": "text/x-python",
   "name": "python",
   "nbconvert_exporter": "python",
   "pygments_lexer": "ipython3",
   "version": "3.11.3"
  },
  "toc-autonumbering": true,
  "toc-showcode": true,
  "toc-showmarkdowntxt": true,
  "vscode": {
   "interpreter": {
    "hash": "598cefc26d6e5a65b2978c65314d0610ea9dfe34c7d989c4b6d2528d500ccb7a"
   }
  }
 },
 "nbformat": 4,
 "nbformat_minor": 5
}
