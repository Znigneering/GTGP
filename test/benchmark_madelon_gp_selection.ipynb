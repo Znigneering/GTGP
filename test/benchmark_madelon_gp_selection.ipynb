{
 "cells": [
  {
   "cell_type": "code",
   "execution_count": 1,
   "id": "8a8bc990-ebc5-46bd-bab4-f4091ce5b834",
   "metadata": {},
   "outputs": [],
   "source": [
    "import sys\n",
    "sys.path.append(\"../script/\")\n",
    "\n",
    "import Functions\n",
    "from Engine import Engine\n",
    "from GTGP import GTGP\n",
    "\n",
    "\n",
    "from sklearn.metrics import classification_report,accuracy_score,confusion_matrix,f1_score\n",
    "from sklearn.model_selection import train_test_split\n",
    "import numpy as np\n",
    "import importlib\n",
    "from time import time\n",
    "from matplotlib import pyplot as plt\n",
    "from sklearn.preprocessing import LabelEncoder,OneHotEncoder\n",
    "import numpy as np\n",
    "import pandas as pd\n",
    "from time import time"
   ]
  },
  {
   "cell_type": "code",
   "execution_count": 2,
   "id": "cbad47da",
   "metadata": {},
   "outputs": [],
   "source": [
    "from sklearn.metrics import roc_auc_score, roc_curve\n",
    "from sklearn.utils import shuffle\n",
    "def plot_roc_curve(true_y, y_prob):\n",
    "    \"\"\"\n",
    "    plots the roc curve based of the probabilities\n",
    "    \"\"\"\n",
    "    \n",
    "    fpr, tpr, thresholds = roc_curve(true_y, y_prob)\n",
    "    plt.plot(fpr, tpr)\n",
    "    plt.xlabel('False Positive Rate')\n",
    "    plt.ylabel('True Positive Rate')\n",
    "    print(roc_auc_score(true_y,prob[:,1]))"
   ]
  },
  {
   "cell_type": "markdown",
   "id": "c114de92",
   "metadata": {},
   "source": [
    "# data"
   ]
  },
  {
   "cell_type": "code",
   "execution_count": 3,
   "id": "feedaa8d",
   "metadata": {},
   "outputs": [],
   "source": [
    "X_train = pd.read_csv(\"../data/madelon_train.data\",delimiter=\" \",header=None).iloc[:,:-1].values\n",
    "y_train = pd.read_csv(\"../data/madelon_train.labels\",delimiter=\" \",header=None).values.flatten()\n",
    "y_train[y_train==-1] = 0\n",
    "\n",
    "X_test = pd.read_csv(\"../data/madelon_valid.data\",delimiter=\" \",header=None).iloc[:,:-1].values\n",
    "y_test = pd.read_csv(\"../data/madelon_valid.labels\",delimiter=\" \",header=None).values.flatten()\n",
    "y_test[y_test==-1] = 0\n",
    "\n",
    "\n",
    "seeds = [10086, 200,500,30506,30405,30420,10056,7059,40965,5398,869543,83491,823190,\n",
    "         48392,2810,48392,3498210,483902,859032,12890,538920,86954,54309,6504,9840,\n",
    "         219805,548,2981,432890,5438908,219094,5843902,60854,979,12890,2108,4093]\n",
    "\n",
    "dataset = 'madelon_gp_selection'\n",
    "# X_train, X_test_addition, y_train, y_test_addition = train_test_split(X_train, y_train, train_size=1000,stratify=y_train)\n",
    "# X_train, X_test_addition, y_train, y_test_addition = train_test_split(X_train, y_train, train_size=20,stratify=y_train)\n",
    "\n",
    "# X_test = np.concatenate([X_test,X_test_addition])\n",
    "# y_test = np.concatenate([y_test,y_test_addition])\n",
    "# y_train,y_test,y_train_one_hot,y_test_one_hot = to_one_hot(y_train,y_test)"
   ]
  },
  {
   "cell_type": "code",
   "execution_count": 6,
   "id": "302c45dc",
   "metadata": {},
   "outputs": [],
   "source": [
    "def to_one_hot(y,yt):\n",
    "    le = LabelEncoder()\n",
    "    ohe = OneHotEncoder()\n",
    "    y_train = le.fit_transform(y)\n",
    "    y_one_hot = ohe.fit_transform(y_train.reshape(-1,1))\n",
    "    \n",
    "    y_test = le.transform(yt)\n",
    "    yt_one_hot = ohe.transform(y_test.reshape(-1,1))\n",
    "    \n",
    "    return y_train,y_test,y_one_hot,yt_one_hot\n",
    "\n",
    "def initial(y_one_hot):\n",
    "    init_log_odds = np.sum(y_one_hot,axis=0)/y_one_hot.shape[0]\n",
    "    \n",
    "    init_p = np.exp(init_log_odds)\n",
    "    init_p = init_p/(1+init_p)\n",
    "\n",
    "    return init_log_odds,init_p"
   ]
  },
  {
   "cell_type": "markdown",
   "id": "ecdd30c5",
   "metadata": {},
   "source": [
    "# model"
   ]
  },
  {
   "cell_type": "code",
   "execution_count": 5,
   "id": "c846b3d2",
   "metadata": {},
   "outputs": [
    {
     "ename": "NameError",
     "evalue": "name 'X_train' is not defined",
     "output_type": "error",
     "traceback": [
      "\u001b[1;31m---------------------------------------------------------------------------\u001b[0m",
      "\u001b[1;31mNameError\u001b[0m                                 Traceback (most recent call last)",
      "Cell \u001b[1;32mIn[5], line 16\u001b[0m\n\u001b[0;32m     13\u001b[0m re_train_epoch \u001b[38;5;241m=\u001b[39m \u001b[38;5;241m20\u001b[39m\n\u001b[0;32m     14\u001b[0m tolerance\u001b[38;5;241m=\u001b[39m\u001b[38;5;241m0.001\u001b[39m\n\u001b[1;32m---> 16\u001b[0m gtgp\u001b[38;5;241m.\u001b[39mfit(\u001b[43mX_train\u001b[49m,y_train,total_size\u001b[38;5;241m=\u001b[39mtotal_size,elite_size \u001b[38;5;241m=\u001b[39m elite_size,epoch\u001b[38;5;241m=\u001b[39mepoch,gp_epoch\u001b[38;5;241m=\u001b[39mgp_epoch,tolerance\u001b[38;5;241m=\u001b[39mtolerance,verbose\u001b[38;5;241m=\u001b[39mverbose)\n",
      "\u001b[1;31mNameError\u001b[0m: name 'X_train' is not defined"
     ]
    }
   ],
   "source": [
    "learning_rate=0.3\n",
    "max_depth=3\n",
    "bins=8\n",
    "lam=1\n",
    "\n",
    "gtgp = GTGP(learning_rate=learning_rate,max_depth=max_depth,bins=bins,lam=lam)\n",
    "\n",
    "total_size=10\n",
    "elite_size = 3\n",
    "epoch=1000\n",
    "gp_epoch=3\n",
    "verbose = 1\n",
    "re_train_epoch = 20\n",
    "tolerance=0.001\n",
    "\n",
    "gtgp.fit(X_train,y_train,total_size=total_size,elite_size = elite_size,epoch=epoch,gp_epoch=gp_epoch,tolerance=tolerance,verbose=verbose)"
   ]
  },
  {
   "cell_type": "markdown",
   "id": "ce2e5055",
   "metadata": {},
   "source": [
    "# FEATURE count"
   ]
  },
  {
   "cell_type": "code",
   "execution_count": 84,
   "id": "432b370e",
   "metadata": {},
   "outputs": [],
   "source": [
    "def get_label_rotation(angle, offset):\n",
    "    # Rotation must be specified in degrees :(\n",
    "    rotation = np.rad2deg(angle + offset)\n",
    "    if angle <= np.pi:\n",
    "        alignment = \"right\"\n",
    "        rotation = rotation + 180\n",
    "    else: \n",
    "        alignment = \"left\"\n",
    "    return rotation, alignment\n",
    "\n",
    "\n",
    "def add_labels(angles, heights, values, labels, offset, ax):\n",
    "    \n",
    "    # This is the space between the end of the bar and the label\n",
    "    padding = -20\n",
    "    # Iterate over angles, values, and labels, to add all of them.\n",
    "    for angle,height, value, label, in zip(angles, heights,values, labels):\n",
    "        angle = angle\n",
    "        \n",
    "        # Obtain text rotation and alignment\n",
    "        rotation, alignment = get_label_rotation(angle, offset)\n",
    "        \n",
    "        # And finally add the text\n",
    "        ax.text(\n",
    "            x=angle, \n",
    "            y=padding, \n",
    "            s=label, \n",
    "            ha=alignment, \n",
    "            va=\"center\", \n",
    "            fontweight=\"bold\",\n",
    "            rotation=rotation, \n",
    "            rotation_mode=\"anchor\"\n",
    "        ) \n",
    "\n",
    "        value = np.round(value,3).astype('str') + '%'\n",
    "        ax.text(\n",
    "            x=angle,\n",
    "            y=height/2 - padding, \n",
    "            s=value, \n",
    "            ha=alignment, \n",
    "            va=\"center\", \n",
    "            rotation=rotation, \n",
    "            rotation_mode=\"anchor\"\n",
    "        ) \n",
    "\n",
    "def plot_feature_circos(features,values,title):\n",
    "    num_features = len(features)\n",
    "\n",
    "    groups_size = [1 for i in range(num_features)]\n",
    "    values = np.round(values,3)\n",
    "    values *= 100\n",
    "\n",
    "    heights = values.copy().astype('float')\n",
    "    rulers_heights = [0.001,0.01,0.1,1] * 100\n",
    "\n",
    "    label = [\"probability\"] * num_features\n",
    "\n",
    "    PAD = 3\n",
    "    ANGLES_N = len(heights) + PAD * num_features\n",
    "    ANGLES = np.linspace(0, 2 * np.pi, num=ANGLES_N, endpoint=False)\n",
    "    WIDTH = (2 * np.pi) / len(ANGLES)\n",
    "    OFFSET = np.pi / 2\n",
    "\n",
    "    # Obtaining the right indexes is now a little more complicated\n",
    "    offset = 0\n",
    "    IDXS = []\n",
    "    for size in groups_size:\n",
    "        IDXS += list(range(offset + PAD, offset + size + PAD))\n",
    "        offset += size + PAD\n",
    "        \n",
    "    # Same layout as above\n",
    "    fig, ax = plt.subplots(figsize=(8, 8), subplot_kw={\"projection\": \"polar\"})\n",
    "\n",
    "    ax.set_theta_offset(OFFSET)\n",
    "    ax.set_ylim(-100, 100)\n",
    "    ax.set_frame_on(False)\n",
    "    ax.xaxis.grid(False)\n",
    "    ax.yaxis.grid(False)\n",
    "    ax.set_xticks([])\n",
    "    ax.set_yticks([])\n",
    "\n",
    "    cmap = plt.cm.get_cmap('viridis', num_features)\n",
    "    COLORS = [cmap(i) for i in range(num_features)]\n",
    "    # And finally add the bars. \n",
    "    # Note again the `ANGLES[IDXS]` to drop some angles that leave the space between bars.\n",
    "    ax.bar(\n",
    "        ANGLES[IDXS], heights, width=WIDTH, color=COLORS, \n",
    "        edgecolor=\"white\", linewidth=2\n",
    "    )\n",
    "\n",
    "    add_labels(ANGLES[IDXS], heights,values, features, OFFSET, ax)\n",
    "\n",
    "    offset = 0 \n",
    "    for group, size in zip(features, groups_size):\n",
    "        rotation, alignment = get_label_rotation(ANGLES[offset + size//2 + PAD - 1], OFFSET)\n",
    "\n",
    "        # Add line below bars\n",
    "        curve = 100\n",
    "        x1 = np.linspace(ANGLES[offset + PAD], ANGLES[offset + size + PAD - 1], num=curve)\n",
    "        ax.plot(x1, [-10] * curve, color=\"#333333\")\n",
    "\n",
    "        rotation, alignment = get_label_rotation(ANGLES[offset + size//2 + PAD//2 - 1] , OFFSET)\n",
    "        rotation += 90 if alignment == 'right' else -90\n",
    "        \n",
    "        # Add reference lines\n",
    "        x2 = np.linspace(ANGLES[offset], ANGLES[offset + PAD - 1], num=50)\n",
    "        for ruler_height,ruler in zip(rulers_heights,['10','100','1,000','10,000']):\n",
    "            ax.plot(x2, [ruler_height] * 50, color=\"#bebebe\", lw=0.8)\n",
    "        offset += size + PAD\n",
    "\n",
    "    plt.title(title)\n",
    "    plt.show()\n",
    "\n",
    "def find_terminals(node):\n",
    "    if node.terminal == True:\n",
    "        return [node.index]\n",
    "    else:\n",
    "        ts = []\n",
    "        for n in node.sons:\n",
    "            ts.extend(find_terminals(n))\n",
    "        return ts\n"
   ]
  },
  {
   "cell_type": "code",
   "execution_count": 85,
   "id": "3ac9375a",
   "metadata": {},
   "outputs": [
    {
     "data": {
      "text/plain": [
       "(338    142\n",
       " 64     137\n",
       " 105    133\n",
       " 241    121\n",
       " 475    114\n",
       "       ... \n",
       " 215      4\n",
       " 120      4\n",
       " 2        4\n",
       " 89       3\n",
       " 228      2\n",
       " Name: count, Length: 500, dtype: int64,\n",
       " 500)"
      ]
     },
     "execution_count": 85,
     "metadata": {},
     "output_type": "execute_result"
    }
   ],
   "source": [
    "terminals = []\n",
    "for node in gtgp.stack:\n",
    "    terminals.extend(find_terminals(node))\n",
    "counts = pd.value_counts(terminals)\n",
    "\n",
    "\n",
    "# div = len(counts)//1\n",
    "div = 20\n",
    "features = counts[:div].keys().tolist()\n",
    "\n",
    "counts,len(np.unique(terminals))"
   ]
  },
  {
   "cell_type": "code",
   "execution_count": 37,
   "id": "e2579626",
   "metadata": {},
   "outputs": [
    {
     "name": "stderr",
     "output_type": "stream",
     "text": [
      "C:\\Users\\zhouz\\AppData\\Local\\Temp\\ipykernel_123664\\680990274.py:82: MatplotlibDeprecationWarning: The get_cmap function was deprecated in Matplotlib 3.7 and will be removed two minor releases later. Use ``matplotlib.colormaps[name]`` or ``matplotlib.colormaps.get_cmap(obj)`` instead.\n",
      "  cmap = plt.cm.get_cmap('viridis', num_features)\n"
     ]
    },
    {
     "data": {
      "image/png": "[encoded data removed]",
      "text/plain": [
       "<Figure size 800x800 with 1 Axes>"
      ]
     },
     "metadata": {},
     "output_type": "display_data"
    }
   ],
   "source": [
    "plot_feature_circos(features=counts[:20].keys().tolist(),\n",
    "                        values  = counts[:20].values/counts[:20].sum().tolist(),\n",
    "                        title = \"Feature Importance - GP selection - madelon\"\n",
    "                        )"
   ]
  },
  {
   "cell_type": "markdown",
   "id": "d01736aa",
   "metadata": {},
   "source": [
    "# select feature"
   ]
  },
  {
   "cell_type": "code",
   "execution_count": 92,
   "id": "23482188",
   "metadata": {},
   "outputs": [],
   "source": [
    "X_train = X_train[:,features]\n",
    "X_test = X_test[:,features]"
   ]
  },
  {
   "cell_type": "markdown",
   "id": "662e91a5",
   "metadata": {},
   "source": [
    "# Decision Tree"
   ]
  },
  {
   "cell_type": "code",
   "execution_count": 95,
   "id": "4ed15d04",
   "metadata": {},
   "outputs": [],
   "source": [
    "from sklearn.tree import DecisionTreeClassifier"
   ]
  },
  {
   "cell_type": "code",
   "execution_count": 96,
   "id": "cfc38da0",
   "metadata": {},
   "outputs": [],
   "source": [
    "for i in range(30):\n",
    "    # X_train, X_test, y_train, y_test = train_test_split(X, y, train_size=train_size,stratify=y, random_state=seeds[i])\n",
    "    y_train,y_test,y_train_one_hot,y_test_one_hot = to_one_hot(y_train,y_test)\n",
    "    clf = DecisionTreeClassifier()\n",
    "    clf.fit(X_train,y_train)\n",
    "\n",
    "    num_trees = 1\n",
    "    depth = clf.tree_.max_depth\n",
    "    num_nodes = clf.tree_.node_count\n",
    "\n",
    "    train_acc = accuracy_score(y_train,clf.predict(X_train))\n",
    "    test_acc = accuracy_score(y_test,clf.predict(X_test))\n",
    "    train_roc = roc_auc_score(y_train_one_hot.toarray(),clf.predict_proba(X_train))\n",
    "    test_roc = roc_auc_score(y_test_one_hot.toarray(),clf.predict_proba(X_test))\n",
    "\n",
    "    with open('./benchmark_DC/'+dataset+'.csv','a') as f:\n",
    "        s = str(train_acc)+\",\"+str(test_acc)+\",\"+str(train_roc)+\",\"+str(test_roc)+\",\"+str(num_trees)+\",\"+str(depth)+\",\"+str(num_nodes)+\"\\n\"\n",
    "        f.writelines(s)"
   ]
  },
  {
   "cell_type": "markdown",
   "id": "63afbae1",
   "metadata": {},
   "source": [
    "# XGBoost"
   ]
  },
  {
   "cell_type": "code",
   "execution_count": 97,
   "id": "28fa8541",
   "metadata": {},
   "outputs": [],
   "source": [
    "import xgboost\n"
   ]
  },
  {
   "cell_type": "code",
   "execution_count": 98,
   "id": "5ffdc577",
   "metadata": {},
   "outputs": [],
   "source": [
    "for i in range(30):\n",
    "    # X_train, X_test, y_train, y_test = train_test_split(X, y, train_size=train_size,stratify=y, random_state=seeds[i])\n",
    "    \n",
    "    y_train,y_test,y_train_one_hot,y_test_one_hot = to_one_hot(y_train,y_test)\n",
    "    # xgb = xgboost.XGBClassifier(min_child_weight=0,max_depth=3,n_estimators=100)\n",
    "    # xgb = xgboost.XGBClassifier(min_child_weight=0,max_depth=4)\n",
    "    xgb = xgboost.XGBClassifier()\n",
    "    xgb.fit(X_train,y_train)\n",
    "\n",
    "    import json\n",
    "\n",
    "    def item_generator(json_input, lookup_key):\n",
    "        if isinstance(json_input, dict):\n",
    "            for k, v in json_input.items():\n",
    "                if k == lookup_key:\n",
    "                    yield v\n",
    "                else:\n",
    "                    yield from item_generator(v, lookup_key)\n",
    "        elif isinstance(json_input, list):\n",
    "            for item in json_input:\n",
    "                yield from item_generator(item, lookup_key)\n",
    "\n",
    "    def tree_depth(json_text):\n",
    "        json_input = json.loads(json_text)\n",
    "        depths = list(item_generator(json_input, 'depth'))\n",
    "        return max(depths) + 1 if len(depths) != 0 else 1\n",
    "\n",
    "    train_acc = accuracy_score(y_train,xgb.predict(X_train))\n",
    "    test_acc = accuracy_score(y_test,xgb.predict(X_test))\n",
    "    train_roc = roc_auc_score(y_train_one_hot.toarray(),xgb.predict_proba(X_train))\n",
    "    test_roc = roc_auc_score(y_test_one_hot.toarray(),xgb.predict_proba(X_test))\n",
    "\n",
    "    booster = xgb.get_booster()\n",
    "\n",
    "    tree_df = booster.trees_to_dataframe()\n",
    "    depths = [tree_depth(x) for x in booster.get_dump(dump_format = \"json\")]\n",
    "    num_trees = len(depths)\n",
    "    depth = np.average(depths)\n",
    "    num_nodes = len(tree_df)\n",
    "\n",
    "    with open('./benchmark_xgb/'+dataset+'.csv','a') as f:\n",
    "        s = str(train_acc)+\",\"+str(test_acc)+\",\"+str(train_roc)+\",\"+str(test_roc)+\",\"+str(num_trees)+\",\"+str(depth)+\",\"+str(num_nodes)+\"\\n\"\n",
    "        f.writelines(s)"
   ]
  },
  {
   "cell_type": "markdown",
   "id": "dc363f99",
   "metadata": {},
   "source": [
    "# GDBT"
   ]
  },
  {
   "cell_type": "code",
   "execution_count": 99,
   "id": "6e6d3435",
   "metadata": {},
   "outputs": [],
   "source": [
    "from sklearn.ensemble import GradientBoostingClassifier"
   ]
  },
  {
   "cell_type": "code",
   "execution_count": 100,
   "id": "a063f609",
   "metadata": {},
   "outputs": [],
   "source": [
    "for i in range(30):\n",
    "    # X_train, X_test, y_train, y_test = train_test_split(X, y, train_size=train_size,stratify=y, random_state=seeds[i])\n",
    "    y_train,y_test,y_train_one_hot,y_test_one_hot = to_one_hot(y_train,y_test)\n",
    "    clf = GradientBoostingClassifier()\n",
    "    # clf = GradientBoostingClassifier()\n",
    "    clf.fit(X_train,y_train)\n",
    "\n",
    "    train_acc = accuracy_score(y_train,clf.predict(X_train))\n",
    "    test_acc = accuracy_score(y_test,clf.predict(X_test))\n",
    "    train_roc = roc_auc_score(y_train_one_hot.toarray(),clf.predict_proba(X_train))\n",
    "    test_roc = roc_auc_score(y_test_one_hot.toarray(),clf.predict_proba(X_test))\n",
    "\n",
    "    num_trees = len([ est for ests in clf.estimators_ for est in ests])\n",
    "    depth = np.average([ max(1,est.tree_.max_depth) for ests in clf.estimators_ for est in ests])\n",
    "    num_nodes = sum([ est.tree_.node_count for ests in clf.estimators_ for est in ests])\n",
    "\n",
    "    with open('./benchmark_GBDT/'+dataset+'.csv','a') as f:\n",
    "        s = str(train_acc)+\",\"+str(test_acc)+\",\"+str(train_roc)+\",\"+str(test_roc)+\",\"+str(num_trees)+\",\"+str(depth)+\",\"+str(num_nodes)+\"\\n\"\n",
    "        f.writelines(s)"
   ]
  },
  {
   "cell_type": "markdown",
   "id": "8f0ef54f",
   "metadata": {},
   "source": [
    "# Random Forest"
   ]
  },
  {
   "cell_type": "code",
   "execution_count": 101,
   "id": "c8623bde",
   "metadata": {},
   "outputs": [],
   "source": [
    "from sklearn.ensemble import RandomForestClassifier"
   ]
  },
  {
   "cell_type": "code",
   "execution_count": 102,
   "id": "b693a8ba",
   "metadata": {},
   "outputs": [],
   "source": [
    "for i in range(30):\n",
    "    # X_train, X_test, y_train, y_test = train_test_split(X, y, train_size=train_size,stratify=y, random_state=seeds[i])\n",
    "    y_train,y_test,y_train_one_hot,y_test_one_hot = to_one_hot(y_train,y_test)\n",
    "    rfc = RandomForestClassifier()\n",
    "    rfc.fit(X_train,y_train)\n",
    "\n",
    "    train_acc = accuracy_score(y_train,rfc.predict(X_train))\n",
    "    test_acc = accuracy_score(y_test,rfc.predict(X_test))\n",
    "    train_roc = roc_auc_score(y_train_one_hot.toarray(),rfc.predict_proba(X_train))\n",
    "    test_roc = roc_auc_score(y_test_one_hot.toarray(),rfc.predict_proba(X_test))\n",
    "\n",
    "    num_trees = len(rfc.estimators_)\n",
    "    depth = np.average([est.tree_.max_depth for est in rfc.estimators_])\n",
    "    num_nodes = sum([est.tree_.node_count for est in rfc.estimators_])\n",
    "\n",
    "    with open('./benchmark_RF/'+dataset+'.csv','a') as f:\n",
    "        s = str(train_acc)+\",\"+str(test_acc)+\",\"+str(train_roc)+\",\"+str(test_roc)+\",\"+str(num_trees)+\",\"+str(depth)+\",\"+str(num_nodes)+\"\\n\"\n",
    "        f.writelines(s)"
   ]
  },
  {
   "cell_type": "code",
   "execution_count": null,
   "id": "b407f52c",
   "metadata": {},
   "outputs": [],
   "source": []
  }
 ],
 "metadata": {
  "kernelspec": {
   "display_name": "BStackGP",
   "language": "python",
   "name": "python3"
  },
  "language_info": {
   "codemirror_mode": {
    "name": "ipython",
    "version": 3
   },
   "file_extension": ".py",
   "mimetype": "text/x-python",
   "name": "python",
   "nbconvert_exporter": "python",
   "pygments_lexer": "ipython3",
   "version": "3.11.3"
  },
  "toc-autonumbering": true,
  "toc-showcode": true,
  "toc-showmarkdowntxt": true,
  "vscode": {
   "interpreter": {
    "hash": "598cefc26d6e5a65b2978c65314d0610ea9dfe34c7d989c4b6d2528d500ccb7a"
   }
  }
 },
 "nbformat": 4,
 "nbformat_minor": 5
}
