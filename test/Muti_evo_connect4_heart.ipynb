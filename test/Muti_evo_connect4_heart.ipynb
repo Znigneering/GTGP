{
 "cells": [
  {
   "cell_type": "code",
   "execution_count": 1,
   "id": "8a8bc990-ebc5-46bd-bab4-f4091ce5b834",
   "metadata": {},
   "outputs": [],
   "source": [
    "import sys\n",
    "sys.path.append(\"../script/\")\n",
    "\n",
    "import Functions\n",
    "from Engine import Engine\n",
    "\n",
    "\n",
    "from sklearn.metrics import classification_report,accuracy_score\n",
    "from sklearn.model_selection import train_test_split\n",
    "import numpy as np\n",
    "import importlib\n",
    "from time import time\n",
    "from matplotlib import pyplot as plt\n",
    "from sklearn.preprocessing import LabelEncoder,OneHotEncoder\n",
    "import numpy as np\n",
    "import pandas as pd\n",
    "from time import time"
   ]
  },
  {
   "cell_type": "code",
   "execution_count": 2,
   "id": "cbad47da",
   "metadata": {},
   "outputs": [],
   "source": [
    "from sklearn.metrics import roc_auc_score, roc_curve\n",
    "from sklearn.utils import shuffle\n",
    "def plot_roc_curve(true_y, y_prob):\n",
    "    \"\"\"\n",
    "    plots the roc curve based of the probabilities\n",
    "    \"\"\"\n",
    "    \n",
    "    fpr, tpr, thresholds = roc_curve(true_y, y_prob)\n",
    "    plt.plot(fpr, tpr)\n",
    "    plt.xlabel('False Positive Rate')\n",
    "    plt.ylabel('True Positive Rate')\n",
    "    print(roc_auc_score(true_y,prob[:,1]))"
   ]
  },
  {
   "cell_type": "markdown",
   "id": "c114de92",
   "metadata": {},
   "source": [
    "# data"
   ]
  },
  {
   "cell_type": "code",
   "execution_count": 3,
   "id": "b52ff245",
   "metadata": {},
   "outputs": [],
   "source": [
    "# ref from 2segp github\n",
    "# Classification dataset names - choose from following datasets \n",
    "\n",
    "CLASS_DATASET_NAMES = ['bcw','heart','iono','parks','sonar']\n",
    "dataset_name = CLASS_DATASET_NAMES[1]\n",
    "\n",
    "\n",
    "# Load the dataset\n",
    "Xy = np.genfromtxt('test_data/'+dataset_name+'.csv', delimiter=',')\n",
    "X = Xy[:, :-1]\n",
    "y = Xy[:, -1]   # last column is the label\n",
    "\n",
    "# simple operators\n",
    "\n",
    "boost_num = 1000\n",
    "\n",
    "seed = np.random.randint(9999999)\n",
    "X_train, X_test, y_train, y_test = train_test_split(X, y, test_size=0.3, random_state=seed)"
   ]
  },
  {
   "cell_type": "markdown",
   "id": "ecdd30c5",
   "metadata": {},
   "source": [
    "# model"
   ]
  },
  {
   "cell_type": "code",
   "execution_count": 4,
   "id": "34565780",
   "metadata": {},
   "outputs": [],
   "source": [
    "def to_one_hot(y,yt):\n",
    "    le = LabelEncoder()\n",
    "    ohe = OneHotEncoder()\n",
    "    y_train = le.fit_transform(y)\n",
    "    y_one_hot = ohe.fit_transform(y_train.reshape(-1,1))\n",
    "    \n",
    "    y_test = le.transform(yt)\n",
    "    yt_one_hot = ohe.transform(y_test.reshape(-1,1))\n",
    "    \n",
    "    return y_train,y_test,y_one_hot,yt_one_hot\n",
    "\n",
    "def initial(y_one_hot):\n",
    "    init_log_odds = np.sum(y_one_hot,axis=0)/y_one_hot.shape[0]\n",
    "    \n",
    "    init_p = np.exp(init_log_odds)\n",
    "    init_p = init_p/(1+init_p)\n",
    "\n",
    "    return init_log_odds,init_p\n",
    "\n",
    "def initial_first_bin(init_log_odds,init_p,X):\n",
    "    log_odds = np.repeat(init_log_odds,X.shape[0],0)\n",
    "    p = np.repeat(init_p,X.shape[0],0)\n",
    "    \n",
    "    return log_odds,p\n",
    "    \n",
    "def update_log_p(grads,log_odds,p,learning_rate):\n",
    "    log_odds_1 = log_odds + learning_rate * grads\n",
    "    \n",
    "    p_1 = np.exp(log_odds_1,where=log_odds_1 < 16,out=np.zeros(log_odds_1.shape)+16)\n",
    "    p_1 = np.divide(p_1,(1+p_1),where=p_1 < 16,out=np.ones(p_1.shape))\n",
    "    \n",
    "    # p_1 = np.exp(log_odds_1)\n",
    "    # p_1 = np.divide(p_1,(1+p_1))\n",
    "\n",
    "    return log_odds_1,p_1\n",
    "\n",
    "def predict(X,init_log_odds,init_p,learning_rate,stack):\n",
    "    log_odds,p = initial_first_bin(init_log_odds,init_p,X)\n",
    "\n",
    "    for node in stack:\n",
    "        grads = node.predict_grad(X)\n",
    "        \n",
    "        log_odds,p = update_log_p(grads,log_odds,p,learning_rate)\n",
    "    return p"
   ]
  },
  {
   "cell_type": "code",
   "execution_count": 5,
   "id": "3fd6496a",
   "metadata": {},
   "outputs": [],
   "source": [
    "train_acc = []\n",
    "test_acc = []\n",
    "\n",
    "stack = []\n",
    "\n",
    "y_train,y_test,y_train_one_hot,y_test_one_hot = to_one_hot(y_train,y_test)\n",
    "\n",
    "init_log_odds,init_p = initial(y_train_one_hot)\n",
    "log_odds,p = initial_first_bin(init_log_odds,init_p,X_train)\n",
    "\n",
    "test_log_odds,test_p = initial_first_bin(init_log_odds,init_p,X_test)"
   ]
  },
  {
   "cell_type": "code",
   "execution_count": 87,
   "id": "051899eb",
   "metadata": {},
   "outputs": [
    {
     "name": "stdout",
     "output_type": "stream",
     "text": [
      "19 33 0\n",
      "20 38 1\n",
      "22 48 2\n",
      "23 53 3\n",
      "24 56 4\n",
      "24 56 5\n",
      "24 54 6\n",
      "24 54 7\n",
      "24 54 8\n",
      "24 54 9\n",
      "24 54 10\n",
      "24 54 11\n",
      "25 59 12\n",
      "26 64 13\n",
      "26 64 14\n",
      "26 62 15\n",
      "28 86 16\n",
      "28 86 17\n",
      "28 86 18\n",
      "28 86 19\n",
      "28 76 20\n",
      "28 76 21\n",
      "28 76 22\n",
      "28 76 23\n",
      "28 74 24\n",
      "29 75 25\n",
      "29 75 26\n",
      "29 75 27\n",
      "29 75 28\n",
      "29 75 29\n",
      "29 73 30\n",
      "29 73 31\n",
      "29 73 32\n",
      "29 73 33\n",
      "29 73 34\n",
      "29 73 35\n",
      "29 73 36\n",
      "29 73 37\n",
      "29 73 38\n",
      "29 73 39\n",
      "29 73 40\n",
      "29 73 41\n",
      "29 73 42\n",
      "29 73 43\n",
      "29 73 44\n",
      "29 73 45\n",
      "29 73 46\n",
      "29 73 47\n",
      "29 73 48\n",
      "29 73 49\n",
      "31 89 50\n",
      "31 89 51\n",
      "31 89 52\n",
      "31 89 53\n",
      "31 85 54\n",
      "31 85 55\n",
      "31 85 56\n",
      "31 85 57\n",
      "31 85 58\n",
      "31 85 59\n",
      "31 85 60\n",
      "31 83 61\n",
      "32 90 62\n",
      "32 88 63\n",
      "32 86 64\n",
      "32 86 65\n",
      "32 86 66\n",
      "33 91 67\n",
      "33 91 68\n",
      "33 89 69\n",
      "33 89 70\n",
      "33 89 71\n",
      "33 89 72\n",
      "33 89 73\n",
      "33 89 74\n",
      "33 89 75\n",
      "33 89 76\n",
      "34 102 77\n",
      "34 100 78\n",
      "34 90 79\n",
      "34 90 80\n",
      "34 90 81\n",
      "34 90 82\n",
      "34 90 83\n",
      "34 90 84\n",
      "34 90 85\n",
      "34 90 86\n",
      "34 86 87\n",
      "34 86 88\n",
      "34 86 89\n",
      "35 91 90\n",
      "35 91 91\n",
      "35 91 92\n",
      "35 91 93\n",
      "35 91 94\n",
      "36 96 95\n",
      "36 94 96\n",
      "37 99 97\n",
      "37 97 98\n",
      "37 97 99\n"
     ]
    }
   ],
   "source": [
    "learning_rate = 0.1\n",
    "bins = 2\n",
    "lam = 3\n",
    "stack = []\n",
    "losses = []\n",
    "num_features = X_train.shape[1]\n",
    "\n",
    "max_depth = 5\n",
    "tolerance = 0.04\n",
    "\n",
    "\n",
    "total_size = 10\n",
    "elite_size = 10\n",
    "\n",
    "eg = Engine(Functions.simple_opset,X_train,y_train,y_train_one_hot,learning_rate,bins,max_depth,lam)\n",
    "eg.initialize_nodes(log_odds,p)\n",
    "origin_features = eg.nodes.copy()\n",
    "origin_losses = eg.losses.copy()\n",
    "stack.extend(eg.nodes)\n",
    "losses.extend(origin_losses)\n",
    "\n",
    "for i in range(100):\n",
    "    for j in range(6):\n",
    "        eg.evolve(total_size,elite_size,log_odds=log_odds,p=p,tolerance=tolerance,verbose=0)\n",
    "    stack,losses = eg.adding_unique_node(stack,losses,eg.nodes[num_features:],tolerance=tolerance)\n",
    "    eg.nodes = origin_features.copy()\n",
    "    eg.losses = origin_losses.copy()\n",
    "    print(len(stack),sum([n.numNode for n in stack]),i)\n",
    "    # if len(stack) > 8000:\n",
    "    #         break\n"
   ]
  },
  {
   "cell_type": "code",
   "execution_count": 91,
   "id": "fc38207b",
   "metadata": {},
   "outputs": [
    {
     "name": "stdout",
     "output_type": "stream",
     "text": [
      "0.8994708994708994 0.8271604938271605 0.8271604938271605\n",
      "42.01894334144552 21.445903234252853 21.445903234252853\n",
      "0.9153439153439153 0.8271604938271605 0.8271604938271605\n",
      "29.798271715179926 18.344392256880692 18.344392256880692\n",
      "0.9417989417989417 0.8271604938271605 0.8271604938271605\n",
      "23.416754018112584 17.530160655207492 17.530160655207492\n"
     ]
    },
    {
     "data": {
      "image/png": "[encoded data removed]",
      "text/plain": [
       "<Figure size 640x480 with 1 Axes>"
      ]
     },
     "metadata": {},
     "output_type": "display_data"
    }
   ],
   "source": [
    "def training_data(node,y_train_one_hot,log_odds,p,test_log_odds=None,test_p=None):\n",
    "    grads = node.estimator.set_grads_bin(y_train_one_hot-p,p)\n",
    "    log_odds,p = update_log_p(grads,log_odds,p,learning_rate)\n",
    "\n",
    "    if test_log_odds != None:\n",
    "        test_grads = node.predict_grad(X_test)\n",
    "        test_log_odds,test_p = update_log_p(test_grads,test_log_odds,test_p,learning_rate)\n",
    "\n",
    "        return log_odds,p,test_log_odds,test_p\n",
    "    \n",
    "    return log_odds,p\n",
    "\n",
    "def get_order(stack,y_train_one_hot,log_odds,p,previous_sse):\n",
    "    score = []\n",
    "    \n",
    "    for node in stack:\n",
    "        log_odds,p = training_data(node,y_train_one_hot,log_odds,p)\n",
    "        \n",
    "        sse = np.sum(np.power(y_train_one_hot - p,2))\n",
    "        score.append(previous_sse - sse)\n",
    "        previous_sse = sse\n",
    "    \n",
    "    return [stack[i] for i in np.argsort(score)[::-1]]\n",
    "\n",
    "y_train,y_test,y_train_one_hot,y_test_one_hot = to_one_hot(y_train,y_test)\n",
    "\n",
    "fits = [i.estimator.loss for i in stack]\n",
    "a = [stack[i] for i in np.argsort(fits)]\n",
    "\n",
    "log_odds,p = initial_first_bin(init_log_odds,init_p,X_train)\n",
    "test_log_odds,test_p = initial_first_bin(init_log_odds,init_p,X_test)\n",
    "\n",
    "# a = get_order(a,y_train_one_hot,log_odds,p,previous_sse=np.sum(np.power(y_train_one_hot - p,2)))\n",
    "\n",
    "train_acc = []\n",
    "test_acc = []\n",
    "\n",
    "train_sse = []\n",
    "test_sse = []\n",
    "\n",
    "\n",
    "counts = []\n",
    "\n",
    "for _ in range(3):\n",
    "    score = []\n",
    "    \n",
    "    for i,node in enumerate(a):\n",
    "        # node.estimator.lam = 300\n",
    "        grads = node.estimator.set_grads_bin(y_train_one_hot-p,p)\n",
    "        log_odds,p = update_log_p(grads,log_odds,p,learning_rate)\n",
    "\n",
    "        test_grads = node.predict_grad(X_test)\n",
    "        test_log_odds,test_p = update_log_p(test_grads,test_log_odds,test_p,learning_rate)\n",
    "\n",
    "\n",
    "        train_sse.append(np.sum(np.power(y_train_one_hot - p,2)))\n",
    "        test_sse.append(np.sum(np.power(y_test_one_hot - test_p,2)))\n",
    "        # score.append(previous_sse - train_sse[-1])\n",
    "        # previous_sse = train_sse[-1]\n",
    "\n",
    "\n",
    "        pred = np.argmax(p,axis=1)\n",
    "        train_acc.append(accuracy_score(pred,y_train))\n",
    "        test_pred = np.argmax(test_p,axis=1)\n",
    "        test_acc.append(accuracy_score(test_pred,y_test))\n",
    "    \n",
    "    # a = [a[i] for i in np.argsort(score)[::-1]]\n",
    "\n",
    "    plt.plot(train_acc)\n",
    "    plt.plot(test_acc)\n",
    "    print(train_acc[-1],test_acc[-1],max(test_acc))\n",
    "\n",
    "    # plt.plot(train_sse)\n",
    "    # plt.plot(test_sse)\n",
    "    print(train_sse[-1],test_sse[-1],min(test_sse))\n",
    "\n",
    "    # plt.legend([\"train\",\"test\"])\n",
    "    # plt.show()\n",
    "    "
   ]
  },
  {
   "cell_type": "code",
   "execution_count": 92,
   "id": "48f0a622",
   "metadata": {},
   "outputs": [
    {
     "data": {
      "text/plain": [
       "97"
      ]
     },
     "execution_count": 92,
     "metadata": {},
     "output_type": "execute_result"
    }
   ],
   "source": [
    "sum([n.numNode for n in stack])"
   ]
  },
  {
   "cell_type": "code",
   "execution_count": 93,
   "id": "e3671a28",
   "metadata": {},
   "outputs": [
    {
     "name": "stdout",
     "output_type": "stream",
     "text": [
      "              precision    recall  f1-score   support\n",
      "\n",
      "           0    0.93269   0.96040   0.94634       101\n",
      "           1    0.95294   0.92045   0.93642        88\n",
      "\n",
      "    accuracy                        0.94180       189\n",
      "   macro avg    0.94282   0.94043   0.94138       189\n",
      "weighted avg    0.94212   0.94180   0.94172       189\n",
      "\n",
      "              precision    recall  f1-score   support\n",
      "\n",
      "           0    0.85714   0.85714   0.85714        49\n",
      "           1    0.78125   0.78125   0.78125        32\n",
      "\n",
      "    accuracy                        0.82716        81\n",
      "   macro avg    0.81920   0.81920   0.81920        81\n",
      "weighted avg    0.82716   0.82716   0.82716        81\n",
      "\n"
     ]
    },
    {
     "data": {
      "image/png": "[encoded data removed]",
      "text/plain": [
       "<Figure size 640x480 with 1 Axes>"
      ]
     },
     "metadata": {},
     "output_type": "display_data"
    }
   ],
   "source": [
    "plt.plot(train_sse)\n",
    "plt.plot(test_sse)\n",
    "plt.legend([\"train\",\"test\"])    \n",
    "print(classification_report(y_train,np.argmax(p,axis=1),digits=5))\n",
    "print(classification_report(y_test,np.argmax(test_p,axis=1),digits=5))"
   ]
  },
  {
   "cell_type": "markdown",
   "id": "662e91a5",
   "metadata": {},
   "source": [
    "# Decision Tree"
   ]
  },
  {
   "cell_type": "code",
   "execution_count": 42,
   "id": "4ed15d04",
   "metadata": {},
   "outputs": [],
   "source": [
    "from sklearn.tree import DecisionTreeClassifier"
   ]
  },
  {
   "cell_type": "code",
   "execution_count": 43,
   "id": "661630ef",
   "metadata": {},
   "outputs": [
    {
     "name": "stdout",
     "output_type": "stream",
     "text": [
      "              precision    recall  f1-score   support\n",
      "\n",
      "           0       1.00      1.00      1.00       101\n",
      "           1       1.00      1.00      1.00        88\n",
      "\n",
      "    accuracy                           1.00       189\n",
      "   macro avg       1.00      1.00      1.00       189\n",
      "weighted avg       1.00      1.00      1.00       189\n",
      "\n",
      "              precision    recall  f1-score   support\n",
      "\n",
      "           0       0.91      0.80      0.85        49\n",
      "           1       0.74      0.88      0.80        32\n",
      "\n",
      "    accuracy                           0.83        81\n",
      "   macro avg       0.82      0.84      0.82        81\n",
      "weighted avg       0.84      0.83      0.83        81\n",
      "\n"
     ]
    }
   ],
   "source": [
    "clf = DecisionTreeClassifier()\n",
    "clf.fit(X_train,y_train)\n",
    "\n",
    "print(classification_report(y_train,clf.predict(X_train)))\n",
    "print(classification_report(y_test,clf.predict(X_test)))"
   ]
  },
  {
   "cell_type": "markdown",
   "id": "63afbae1",
   "metadata": {},
   "source": [
    "# XGBoost"
   ]
  },
  {
   "cell_type": "code",
   "execution_count": 44,
   "id": "28fa8541",
   "metadata": {},
   "outputs": [],
   "source": [
    "import xgboost\n"
   ]
  },
  {
   "cell_type": "code",
   "execution_count": 45,
   "id": "acfdd7c8",
   "metadata": {},
   "outputs": [
    {
     "name": "stdout",
     "output_type": "stream",
     "text": [
      "              precision    recall  f1-score   support\n",
      "\n",
      "           0    1.00000   1.00000   1.00000       101\n",
      "           1    1.00000   1.00000   1.00000        88\n",
      "\n",
      "    accuracy                        1.00000       189\n",
      "   macro avg    1.00000   1.00000   1.00000       189\n",
      "weighted avg    1.00000   1.00000   1.00000       189\n",
      "\n",
      "              precision    recall  f1-score   support\n",
      "\n",
      "           0    0.89583   0.87755   0.88660        49\n",
      "           1    0.81818   0.84375   0.83077        32\n",
      "\n",
      "    accuracy                        0.86420        81\n",
      "   macro avg    0.85701   0.86065   0.85868        81\n",
      "weighted avg    0.86516   0.86420   0.86454        81\n",
      "\n",
      "train: 0.8205863323159309\n",
      "test: 18.64404417127231\n"
     ]
    },
    {
     "data": {
      "text/plain": [
       "(100, 3.65, 1314)"
      ]
     },
     "execution_count": 45,
     "metadata": {},
     "output_type": "execute_result"
    }
   ],
   "source": [
    "xgb = xgboost.XGBClassifier()\n",
    "xgb.fit(X_train,y_train)\n",
    "\n",
    "print(classification_report(y_train,xgb.predict(X_train),digits=5))\n",
    "print(classification_report(y_test,xgb.predict(X_test),digits=5))\n",
    "print(\"train:\",np.sum(np.power(y_train_one_hot - xgb.predict_proba(X_train),2)))\n",
    "print(\"test:\",np.sum(np.power(y_test_one_hot - xgb.predict_proba(X_test),2)))\n",
    "\n",
    "import json\n",
    "\n",
    "def item_generator(json_input, lookup_key):\n",
    "    if isinstance(json_input, dict):\n",
    "        for k, v in json_input.items():\n",
    "            if k == lookup_key:\n",
    "                yield v\n",
    "            else:\n",
    "                yield from item_generator(v, lookup_key)\n",
    "    elif isinstance(json_input, list):\n",
    "        for item in json_input:\n",
    "            yield from item_generator(item, lookup_key)\n",
    "\n",
    "def tree_depth(json_text):\n",
    "    json_input = json.loads(json_text)\n",
    "    depths = list(item_generator(json_input, 'depth'))\n",
    "    return max(depths) + 1 if len(depths) != 0 else 1\n",
    "\n",
    "\n",
    "booster = xgb.get_booster()\n",
    "\n",
    "tree_df = booster.trees_to_dataframe()\n",
    "depths = [tree_depth(x) for x in booster.get_dump(dump_format = \"json\")]\n",
    "len(depths),np.average(depths),len(tree_df)"
   ]
  },
  {
   "cell_type": "markdown",
   "id": "dc363f99",
   "metadata": {},
   "source": [
    "# GDBT"
   ]
  },
  {
   "cell_type": "code",
   "execution_count": 46,
   "id": "6e6d3435",
   "metadata": {},
   "outputs": [],
   "source": [
    "from sklearn.ensemble import GradientBoostingClassifier"
   ]
  },
  {
   "cell_type": "code",
   "execution_count": 47,
   "id": "ef69c1d8",
   "metadata": {},
   "outputs": [
    {
     "name": "stdout",
     "output_type": "stream",
     "text": [
      "              precision    recall  f1-score   support\n",
      "\n",
      "           0    1.00000   1.00000   1.00000       101\n",
      "           1    1.00000   1.00000   1.00000        88\n",
      "\n",
      "    accuracy                        1.00000       189\n",
      "   macro avg    1.00000   1.00000   1.00000       189\n",
      "weighted avg    1.00000   1.00000   1.00000       189\n",
      "\n",
      "              precision    recall  f1-score   support\n",
      "\n",
      "           0    0.91111   0.83673   0.87234        49\n",
      "           1    0.77778   0.87500   0.82353        32\n",
      "\n",
      "    accuracy                        0.85185        81\n",
      "   macro avg    0.84444   0.85587   0.84793        81\n",
      "weighted avg    0.85844   0.85185   0.85306        81\n",
      "\n",
      "train: 3.7666358053793276\n",
      "test: 16.7109547748185\n"
     ]
    },
    {
     "data": {
      "text/plain": [
       "(100, 1398)"
      ]
     },
     "execution_count": 47,
     "metadata": {},
     "output_type": "execute_result"
    }
   ],
   "source": [
    "clf = GradientBoostingClassifier()\n",
    "clf.fit(X_train,y_train)\n",
    "\n",
    "print(classification_report(y_train,clf.predict(X_train),digits=5))\n",
    "print(classification_report(y_test,clf.predict(X_test),digits=5))\n",
    "print(\"train:\",np.sum(np.power(y_train_one_hot - clf.predict_proba(X_train),2)))\n",
    "print(\"test:\",np.sum(np.power(y_test_one_hot - clf.predict_proba(X_test),2)))\n",
    "\n",
    "len(clf.estimators_),sum([ est.tree_.node_count for ests in clf.estimators_ for est in ests])"
   ]
  },
  {
   "cell_type": "code",
   "execution_count": null,
   "id": "28c6651e",
   "metadata": {},
   "outputs": [],
   "source": []
  }
 ],
 "metadata": {
  "kernelspec": {
   "display_name": "BStackGP",
   "language": "python",
   "name": "python3"
  },
  "language_info": {
   "codemirror_mode": {
    "name": "ipython",
    "version": 3
   },
   "file_extension": ".py",
   "mimetype": "text/x-python",
   "name": "python",
   "nbconvert_exporter": "python",
   "pygments_lexer": "ipython3",
   "version": "3.11.3"
  },
  "toc-autonumbering": true,
  "toc-showcode": true,
  "toc-showmarkdowntxt": true,
  "vscode": {
   "interpreter": {
    "hash": "598cefc26d6e5a65b2978c65314d0610ea9dfe34c7d989c4b6d2528d500ccb7a"
   }
  }
 },
 "nbformat": 4,
 "nbformat_minor": 5
}
