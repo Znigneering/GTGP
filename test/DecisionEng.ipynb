{
 "cells": [
  {
   "cell_type": "code",
   "execution_count": 1,
   "id": "8a8bc990-ebc5-46bd-bab4-f4091ce5b834",
   "metadata": {},
   "outputs": [],
   "source": [
    "import sys\n",
    "sys.path.append(\"../script/\")\n",
    "\n",
    "from sklearn.metrics import classification_report,accuracy_score\n",
    "from sklearn.tree import DecisionTreeClassifier\n",
    "from sklearn.tree import plot_tree\n",
    "from sklearn.model_selection import train_test_split\n",
    "import numpy as np\n",
    "import importlib\n",
    "from time import time\n",
    "import Functions\n",
    "from matplotlib import pyplot as plt"
   ]
  },
  {
   "cell_type": "code",
   "execution_count": 2,
   "id": "8230662c-fa72-42c7-bf5e-919cbf89080d",
   "metadata": {},
   "outputs": [],
   "source": [
    "import numpy as np\n",
    "import pandas as pd\n",
    "from time import time\n",
    "from Node import Node"
   ]
  },
  {
   "cell_type": "code",
   "execution_count": 3,
   "id": "cbad47da",
   "metadata": {},
   "outputs": [],
   "source": [
    "from sklearn.metrics import roc_auc_score, roc_curve\n",
    "from sklearn.utils import shuffle\n",
    "def plot_roc_curve(true_y, y_prob):\n",
    "    \"\"\"\n",
    "    plots the roc curve based of the probabilities\n",
    "    \"\"\"\n",
    "    \n",
    "    fpr, tpr, thresholds = roc_curve(true_y, y_prob)\n",
    "    plt.plot(fpr, tpr)\n",
    "    plt.xlabel('False Positive Rate')\n",
    "    plt.ylabel('True Positive Rate')\n",
    "    print(roc_auc_score(true_y,prob[:,1]))"
   ]
  },
  {
   "cell_type": "markdown",
   "id": "57308354",
   "metadata": {},
   "source": [
    "# Engine"
   ]
  },
  {
   "cell_type": "code",
   "execution_count": 4,
   "id": "44cce456",
   "metadata": {},
   "outputs": [],
   "source": [
    "class Engine:\n",
    "    def __init__(self,opset,X,Y,residual,log_odds,p,learning_rate,max_depth):\n",
    "        self.generation = 0\n",
    "        \n",
    "        X = X.astype('float64')\n",
    "        self.opset = opset\n",
    "        \n",
    "        self.feature_space = X.shape[1]\n",
    "        \n",
    "        self.vals = X.T\n",
    "        self.X = X\n",
    "        self.Y = Y\n",
    "\n",
    "        self.residual = residual\n",
    "        self.log_odds = log_odds\n",
    "        self.p = p\n",
    "        self.sample_weights = np.sum(np.abs(np.array(residual)),axis=1)\n",
    "        self.learning_rate = learning_rate\n",
    "        self.max_depth = max_depth\n",
    "        \n",
    "        self.best = (np.inf,None)\n",
    "        self.nodes = [Node(True,index=i) for i in range(self.feature_space)]\n",
    "    \n",
    "    \n",
    "    def calculate_decision(self,val):\n",
    "\n",
    "        clf = DecisionTreeClassifier(max_depth=self.max_depth)\n",
    "        clf.fit(val,self.Y,sample_weight=self.sample_weights)\n",
    "        \n",
    "        bins = len(clf.tree_.threshold)\n",
    "        index = clf.apply(val)\n",
    "        \n",
    "        residual_bin = np.stack([np.sum(self.residual[index==i],axis=0) for i in range(bins)])\n",
    "        p_bin = np.stack([np.sum(np.multiply(self.p[index==i],1-self.p[index==i]),axis=0) for i in range(bins)])\n",
    "\n",
    "        # grad_bin = np.divide(residual_bin,p_bin,where=p_bin!=0,out=np.zeros(p_bin.shape))\n",
    "        addon = 1/val.shape[0]\n",
    "        p_bin[p_bin < addon] = addon\n",
    "        grad_bin = np.divide(residual_bin,p_bin) #TO-DO is 1e-5 enough?\n",
    "\n",
    "        loss = -np.sum(clf.tree_.n_node_samples@np.abs(grad_bin))\n",
    "\n",
    "        return loss,clf,(bins,grad_bin)\n",
    "    \n",
    "    def calculate_fitness(self,vals,beta):\n",
    "        fitness = []\n",
    "        clfs = []\n",
    "        for val in vals:\n",
    "            loss,clf,clf_param = self.calculate_decision(np.array([val]).T)\n",
    "            \n",
    "            fitness.append(loss)\n",
    "            clfs.append((clf,clf_param))\n",
    "\n",
    "        return fitness,clfs\n",
    "    \n",
    "\n",
    "    def evolve(self,total_size,batch_size,elite_size,beta,verbose):\n",
    "        self.generation += 1\n",
    "        \n",
    "        if verbose:\n",
    "            print(\"\\tgeneration:\",self.generation)\n",
    "            t = time()\n",
    "        \n",
    "        num_batches = total_size//batch_size\n",
    "        pool = self.nodes\n",
    "\n",
    "        elites = []\n",
    "        elites_fitness = []\n",
    "        for j in range(num_batches):\n",
    "\n",
    "            funcs = np.random.choice(list(self.opset.keys()),size=batch_size)\n",
    "            arg_count = [self.opset[func] for func in funcs]\n",
    "            sons = np.random.choice(pool,size = sum(arg_count))\n",
    "            it = iter(sons)\n",
    "            sons = [[next(it) for _ in range(arg_count[i])] for i in range(batch_size)]\n",
    "            vals = [funcs[i]([self.vals[s.index] for s in sons[i]]) for i in range(batch_size)]\n",
    "\n",
    "            vals = np.stack(vals)\n",
    "            fitness,clfs = self.calculate_fitness(vals,beta)\n",
    "            \n",
    "            elites.extend([(funcs[i],sons[i],vals[i],clfs[i]) for i in range(batch_size)])\n",
    "            elites_fitness.extend(fitness)\n",
    "\n",
    "            rank = np.argsort(elites_fitness)\n",
    "\n",
    "            elits = [elites[index] for index in rank[:elite_size]]\n",
    "            elites_fitness = [elites_fitness[index] for index in rank[:elite_size]]\n",
    "\n",
    "        for index in range(elite_size):\n",
    "            func,son,val,clf = elits[index]\n",
    "\n",
    "            node = Node(False,\n",
    "                func=func,\n",
    "                sons=son,\n",
    "                index=len(self.nodes),\n",
    "                fit=elites_fitness[index]\n",
    "            )\n",
    "            node.clf = clf\n",
    "\n",
    "            if index == 0:\n",
    "                if self.best[0] > node.fitness:\n",
    "                    self.best = (node.fitness,node)\n",
    "            self.nodes.append(node)\n",
    "            self.vals = np.append(self.vals,[val],axis=0)\n",
    "            self.test_param_same(node)\n",
    "      \n",
    "\n",
    "        if verbose:\n",
    "            print(\"\\t\",np.max(elites_fitness))\n",
    "            print(\"\\ttime\",time()-t)\n",
    "        return None\n",
    "\n",
    "    def test_param_same(self,node):\n",
    "        v1 = node.predict(self.X)\n",
    "        v2 = self.vals[node.index]\n",
    "        if np.any(v1!=v2):\n",
    "            print(node.index,v1==v2)"
   ]
  },
  {
   "cell_type": "code",
   "execution_count": 5,
   "id": "a19b7bb7",
   "metadata": {},
   "outputs": [],
   "source": [
    "from sklearn.metrics import roc_auc_score, roc_curve\n",
    "from sklearn.utils import shuffle\n",
    "\n",
    "def plot_roc_curve(true_y, y_prob):\n",
    "    \"\"\"\n",
    "    plots the roc curve based of the probabilities\n",
    "    \"\"\"\n",
    "    \n",
    "    fpr, tpr, thresholds = roc_curve(true_y, y_prob)\n",
    "    plt.plot(fpr, tpr)\n",
    "    plt.xlabel('False Positive Rate')\n",
    "    plt.ylabel('True Positive Rate')\n",
    "    print(roc_auc_score(true_y,prob[:,1]))"
   ]
  },
  {
   "cell_type": "markdown",
   "id": "b524befc",
   "metadata": {},
   "source": [
    "# Stack"
   ]
  },
  {
   "cell_type": "code",
   "execution_count": 6,
   "id": "3154e0fa",
   "metadata": {},
   "outputs": [],
   "source": [
    "from sklearn.preprocessing import LabelEncoder,OneHotEncoder"
   ]
  },
  {
   "cell_type": "code",
   "execution_count": 7,
   "id": "a8661125",
   "metadata": {},
   "outputs": [],
   "source": [
    "def to_one_hot(y,yt):\n",
    "    le = LabelEncoder()\n",
    "    ohe = OneHotEncoder()\n",
    "    y_train = le.fit_transform(y)\n",
    "    y_one_hot = ohe.fit_transform(y_train.reshape(-1,1))\n",
    "    \n",
    "    y_test = le.transform(yt)\n",
    "    yt_one_hot = ohe.transform(y_test.reshape(-1,1))\n",
    "    \n",
    "    return y_train,y_test,y_one_hot,yt_one_hot\n",
    "\n",
    "def initial(y_one_hot):\n",
    "    init_log_odds = np.sum(y_one_hot,axis=0)/(y_one_hot.shape[0] - np.sum(y_one_hot,axis=0))\n",
    "    init_log_odds = np.array(np.log(init_log_odds))\n",
    "\n",
    "    init_p = np.exp(init_log_odds)\n",
    "    init_p = np.array(init_p/(1+init_p))\n",
    "\n",
    "    return init_log_odds,init_p\n",
    "\n",
    "def initial_first_bin(init_log_odds,init_p,X):\n",
    "    log_odds = np.repeat(init_log_odds,X.shape[0],0)\n",
    "    p = np.repeat(init_p,X.shape[0],0)\n",
    "    \n",
    "    return log_odds,p\n",
    "\n",
    "def gradient(node,val):\n",
    "    val = np.array([val]).T\n",
    "\n",
    "    clf,clf_param = node.clf\n",
    "    bins,grad_bin = clf_param\n",
    "    index = clf.apply(val)\n",
    "\n",
    "    grads = np.zeros((val.shape[0],grad_bin.shape[1]))\n",
    "    for i in range(bins):\n",
    "        grads[index==i] = grad_bin[i]\n",
    "        \n",
    "    return grads\n",
    "\n",
    "def update_log_p(grads,log_odds,p,mask,learning_rate):\n",
    "    log_odds_1 = log_odds + grads * learning_rate\n",
    "    # log_odds_1 = log_odds + mask.reshape(-1,1)*grads * learning_rate\n",
    "    \n",
    "    p_1 = np.exp(log_odds_1,where=log_odds_1 < 1024,out=np.zeros(log_odds_1.shape)+1024)\n",
    "    p_1 = np.divide(p_1,(1+p_1),where=p_1 < 1024,out=np.ones(p_1.shape))\n",
    "    \n",
    "    # p_1 = np.exp(log_odds_1)\n",
    "    # p_1 = np.divide(p_1,(1+p_1))\n",
    "\n",
    "    return log_odds_1,p_1\n",
    "\n",
    "def predict_single_node(node,X,log_odds,p,learning_rate):\n",
    "    mask = np.sum(np.power(p,2),axis=1) < 1\n",
    "\n",
    "    val = node.predict(X)\n",
    "    grads = gradient(node,val)\n",
    "    \n",
    "    log_odds,p = update_log_p(grads,log_odds,p,mask,learning_rate)\n",
    "\n",
    "    return log_odds,p\n",
    "\n",
    "def predict(X,init_log_odds,init_p,learning_rate,stack):\n",
    "    log_odds,p = initial_first_bin(init_log_odds,init_p,X)\n",
    "\n",
    "    for node in stack:\n",
    "        log_odds,p = predict_single_node(node,X,log_odds,p,learning_rate) \n",
    "        \n",
    "    return p"
   ]
  },
  {
   "attachments": {},
   "cell_type": "markdown",
   "id": "c114de92",
   "metadata": {},
   "source": [
    "# Data"
   ]
  },
  {
   "attachments": {},
   "cell_type": "markdown",
   "id": "cda82e45",
   "metadata": {},
   "source": [
    "## Small datasets"
   ]
  },
  {
   "cell_type": "code",
   "execution_count": 8,
   "id": "aab0e5e8",
   "metadata": {},
   "outputs": [],
   "source": [
    "# ref from 2segp github\n",
    "# Classification dataset names - choose from following datasets \n",
    "\n",
    "CLASS_DATASET_NAMES = ['bcw','heart','iono','parks','sonar']\n",
    "dataset_name = CLASS_DATASET_NAMES[1]\n",
    "\n",
    "\n",
    "# Load the dataset\n",
    "Xy = np.genfromtxt('test_data/'+dataset_name+'.csv', delimiter=',')\n",
    "X = Xy[:, :-1]\n",
    "y = Xy[:, -1]   # last column is the label\n",
    "\n",
    "# simple operators\n",
    "\n",
    "boost_num = 1000\n",
    "\n",
    "seed = np.random.randint(9999999)\n",
    "X_train, X_test, y_train, y_test = train_test_split(X, y, test_size=0.3, random_state=seed)"
   ]
  },
  {
   "attachments": {},
   "cell_type": "markdown",
   "id": "525ae59b",
   "metadata": {},
   "source": [
    "## Cover Type"
   ]
  },
  {
   "cell_type": "code",
   "execution_count": 8,
   "id": "187191f8",
   "metadata": {},
   "outputs": [],
   "source": [
    "df = pd.read_csv('../data/covtype.data',header=None)\n",
    "data_X = df.iloc[:,:-1].to_numpy()\n",
    "data_y = df.iloc[:,-1].to_numpy().astype('int')\n"
   ]
  },
  {
   "cell_type": "code",
   "execution_count": 9,
   "id": "64916108",
   "metadata": {},
   "outputs": [],
   "source": [
    "X_train,X_test,y_train,y_test = train_test_split(data_X,data_y,test_size=0.9)\n",
    "y_train,y_test,y_train_one_hot,y_test_one_hot = to_one_hot(y_train,y_test)"
   ]
  },
  {
   "attachments": {},
   "cell_type": "markdown",
   "id": "0bc3d686",
   "metadata": {},
   "source": [
    "## Higgs"
   ]
  },
  {
   "cell_type": "code",
   "execution_count": 10,
   "id": "b2201c79",
   "metadata": {},
   "outputs": [],
   "source": [
    "df = pd.read_csv('../data/HIGGS.csv',header=None)\n",
    "data_X = df.iloc[:,1:].to_numpy()\n",
    "data_y = df.iloc[:,0].to_numpy().astype('int')"
   ]
  },
  {
   "cell_type": "code",
   "execution_count": 11,
   "id": "10fdafc2",
   "metadata": {},
   "outputs": [],
   "source": [
    "X_train,X_test2,y_train,y_test2 = train_test_split(data_X,data_y,test_size=500000)\n",
    "Xs,ys = shuffle(X_train,y_train)"
   ]
  },
  {
   "cell_type": "code",
   "execution_count": 12,
   "id": "70f67fed",
   "metadata": {},
   "outputs": [],
   "source": [
    "i = 105000\n",
    "j = 10500\n",
    "\n",
    "X_train = Xs[:i]\n",
    "y_train = ys[:i]\n",
    "\n",
    "X_test = Xs[i:i+j]\n",
    "y_test = ys[i:i+j]"
   ]
  },
  {
   "attachments": {},
   "cell_type": "markdown",
   "id": "ecdd30c5",
   "metadata": {},
   "source": [
    "# Model"
   ]
  },
  {
   "cell_type": "code",
   "execution_count": 45,
   "id": "c6f8cc54",
   "metadata": {},
   "outputs": [],
   "source": [
    "def update_engine(X,y,log_odds,p,residual,learning_rate,max_depth,prev_eg=None):\n",
    "    # eg = Engine(Functions.simple_opset,\n",
    "    #             X[mask],\n",
    "    #             y[mask],\n",
    "    #             residual[mask],\n",
    "    #             log_odds[mask],\n",
    "    #             p[mask],\n",
    "    #             learning_rate,max_depth)\n",
    "    \n",
    "    if prev_eg == None:\n",
    "        eg = Engine(Functions.simple_opset,\n",
    "            X,\n",
    "            y,\n",
    "            residual,\n",
    "            log_odds,\n",
    "            p,\n",
    "            learning_rate,max_depth)\n",
    "    else:\n",
    "        eg = prev_eg\n",
    "        \n",
    "        eg.residual = residual\n",
    "        eg.log_odds = log_odds\n",
    "        eg.p = p\n",
    "        eg.learning_rate = learning_rate\n",
    "        eg.max_depth = max_depth\n",
    "\n",
    "        eg.best = (np.inf,None)\n",
    "\n",
    "    return eg"
   ]
  },
  {
   "cell_type": "code",
   "execution_count": 139,
   "id": "d29bad6f",
   "metadata": {},
   "outputs": [],
   "source": [
    "def train_engine(eg):\n",
    "    log_odds = eg.log_odds\n",
    "    p = eg.p\n",
    "    residual = eg.residual\n",
    "    learning_rate = eg.learning_rate\n",
    "\n",
    "    #masking\n",
    "    mask = np.sum(np.power(p,2),axis=1) < 1\n",
    "#     mask = np.array(residual).T[0] > 0.1\n",
    "                \n",
    "    for j in range(1):\n",
    "            eg.evolve(10,10,3,[0,0,0],0)\n",
    "    \n",
    "    node = eg.best[1]\n",
    "    val = eg.vals[node.index]\n",
    "    grads = gradient(node,val)\n",
    "    log_odds,p = update_log_p(grads,log_odds,p,mask,learning_rate)\n",
    "\n",
    "\n",
    "    # masked_grads = np.zeros(log_odds.shape)\n",
    "    # masked_grads[mask] = grads_slim\n",
    "    # log_odds,p = update_log_p(masked_grads,log_odds,p,mask,learning_rate)\n",
    "\n",
    "    return node,val,log_odds,p,residual"
   ]
  },
  {
   "cell_type": "code",
   "execution_count": 200,
   "id": "3d1c23e2",
   "metadata": {},
   "outputs": [
    {
     "data": {
      "image/png": "[encoded data removed]",
      "text/plain": [
       "<Figure size 640x480 with 1 Axes>"
      ]
     },
     "metadata": {},
     "output_type": "display_data"
    },
    {
     "name": "stdout",
     "output_type": "stream",
     "text": [
      "Generation: 0 47.21374457717821 29.3640057690194 0.8571428571428571 0.7654320987654321 0.129s\n",
      "Generation: 1 39.75352822204817 27.960386034731947 0.8571428571428571 0.7654320987654321 0.131s\n",
      "Generation: 2 34.50951044514018 25.60345978389221 0.8888888888888888 0.8148148148148148 0.13s\n",
      "Generation: 3 31.622547478235404 27.769776009354395 0.9047619047619048 0.7901234567901234 0.131s\n",
      "Generation: 4 28.227448493070533 28.31660278056576 0.9206349206349206 0.8024691358024691 0.126s\n",
      "Generation: 5 25.28513297983536 26.88117920256507 0.9206349206349206 0.8024691358024691 0.136s\n",
      "Generation: 6 23.804015309664848 27.395697609144143 0.9153439153439153 0.7901234567901234 0.13s\n",
      "Generation: 7 21.974174134852408 27.930564403015886 0.9259259259259259 0.7901234567901234 0.129s\n",
      "Generation: 8 20.613323568680226 27.016690551266542 0.9365079365079365 0.7901234567901234 0.129s\n",
      "Generation: 9 18.462941137599202 26.6989173624548 0.9470899470899471 0.7777777777777778 0.126s\n"
     ]
    }
   ],
   "source": [
    "stack = []\n",
    "learning_rate = 1\n",
    "max_depth = 1\n",
    "\n",
    "train_acc = []\n",
    "test_acc = []\n",
    "\n",
    "y_train,y_test,y_train_one_hot,y_test_one_hot = to_one_hot(y_train,y_test)\n",
    "\n",
    "init_log_odds,init_p = initial(y_train_one_hot)\n",
    "log_odds,p = initial_first_bin(init_log_odds,init_p,X_train)\n",
    "residual = y_train_one_hot - p\n",
    "\n",
    "test_log_odds,test_p = initial_first_bin(init_log_odds,init_p,X_test)\n",
    "test_residual = y_test_one_hot - test_p\n",
    "\n",
    "\n",
    "\n",
    "for g in range(10):\n",
    "    # eg = Engine(Functions.simple_opset,\n",
    "    #             X_train,\n",
    "    #             y_train,\n",
    "    #             residual,\n",
    "    #             log_odds,\n",
    "    #             p,\n",
    "    #             learning_rate,max_depth)\n",
    "\n",
    "    if g % 2 == 0:\n",
    "        eg = update_engine(X_train,y_train,log_odds,p,residual,learning_rate,max_depth)\n",
    "    else:\n",
    "        eg = update_engine(X_train,y_train,log_odds,p,residual,learning_rate,max_depth,eg)\n",
    "\n",
    "    start = time()\n",
    "    node,val,log_odds,p,residual = train_engine(eg)\n",
    "    training_time = time() - start\n",
    "    \n",
    "    residual = y_train_one_hot - p\n",
    "    loss = np.sum(np.power(residual,2))\n",
    "\n",
    "    if not np.isnan(loss):\n",
    "        stack.append(node)\n",
    "\n",
    "        if g % 100 == 0:\n",
    "            #residual plot\n",
    "            plt.hist(np.max(p,axis=1),bins=100)\n",
    "            plt.show()\n",
    "            \n",
    "        # train_acc.append(loss)\n",
    "        # test_acc.append(test_loss)\n",
    "        \n",
    "        pred = np.argmax(p,axis=1)\n",
    "        train_acc.append(accuracy_score(y_train,pred))\n",
    "        # pred = p[:,1]\n",
    "        # train_acc.append(roc_auc_score(y_train,pred))\n",
    "\n",
    "\n",
    "        # test data prediction\n",
    "        test_log_odds,test_p = predict_single_node(node,X_test,test_log_odds,test_p,learning_rate)\n",
    "        test_residual = y_test_one_hot - test_p\n",
    "        test_loss = np.sum(np.power(test_residual,2))\n",
    "\n",
    "        \n",
    "        # test_pred = predict(X_test,init_log_odds,init_p,learning_rate,stack)\n",
    "        test_pred = np.argmax(test_p,axis=1)\n",
    "        test_acc.append(accuracy_score(y_test,test_pred))\n",
    "        # test_pred = test_p[:,1]\n",
    "        # test_acc.append(roc_auc_score(y_test,test_pred))\n",
    "    \n",
    "        # print(\"Generation:\",g,loss,train_acc[-1],str(round(training_time,3))+'s')\n",
    "        print(\"Generation:\",g,loss,test_loss,train_acc[-1],test_acc[-1],str(round(training_time,3))+'s')\n",
    "    else:\n",
    "        break"
   ]
  },
  {
   "cell_type": "code",
   "execution_count": 201,
   "id": "32ecde1c",
   "metadata": {},
   "outputs": [
    {
     "data": {
      "text/plain": [
       "3    6\n",
       "5    2\n",
       "2    1\n",
       "4    1\n",
       "dtype: int64"
      ]
     },
     "execution_count": 201,
     "metadata": {},
     "output_type": "execute_result"
    }
   ],
   "source": [
    "pd.value_counts([node.depth for node in stack])"
   ]
  },
  {
   "cell_type": "code",
   "execution_count": 202,
   "id": "fba84308",
   "metadata": {},
   "outputs": [
    {
     "data": {
      "text/plain": [
       "9     3\n",
       "15    2\n",
       "11    2\n",
       "7     1\n",
       "23    1\n",
       "25    1\n",
       "dtype: int64"
      ]
     },
     "execution_count": 202,
     "metadata": {},
     "output_type": "execute_result"
    }
   ],
   "source": [
    "pd.value_counts([node.numNode for node in stack])"
   ]
  },
  {
   "cell_type": "code",
   "execution_count": 203,
   "id": "81959aa3",
   "metadata": {},
   "outputs": [
    {
     "data": {
      "text/plain": [
       "(3.2, 3.6)"
      ]
     },
     "execution_count": 203,
     "metadata": {},
     "output_type": "execute_result"
    }
   ],
   "source": [
    "np.average([node.depth for node in stack[:5]]),np.average([node.depth for node in stack[5:]])"
   ]
  },
  {
   "cell_type": "code",
   "execution_count": 204,
   "id": "0b7270a5",
   "metadata": {},
   "outputs": [
    {
     "data": {
      "text/plain": [
       "(14.2, 12.6)"
      ]
     },
     "execution_count": 204,
     "metadata": {},
     "output_type": "execute_result"
    }
   ],
   "source": [
    "np.average([node.numNode for node in stack[:5]]),np.average([node.numNode for node in stack[5:]])"
   ]
  },
  {
   "cell_type": "code",
   "execution_count": 76,
   "id": "071a97ac",
   "metadata": {},
   "outputs": [
    {
     "name": "stdout",
     "output_type": "stream",
     "text": [
      "              precision    recall  f1-score   support\n",
      "\n",
      "           0       0.92      0.91      0.92     21477\n",
      "           1       0.93      0.94      0.93     28054\n",
      "           2       0.98      0.98      0.98      3626\n",
      "           3       1.00      1.00      1.00       267\n",
      "           4       0.99      0.87      0.92       909\n",
      "           5       0.98      0.98      0.98      1724\n",
      "           6       0.99      0.97      0.98      2044\n",
      "\n",
      "    accuracy                           0.93     58101\n",
      "   macro avg       0.97      0.95      0.96     58101\n",
      "weighted avg       0.93      0.93      0.93     58101\n",
      "\n"
     ]
    }
   ],
   "source": [
    "print(classification_report(y_train, np.argmax(p,axis=1)))\n",
    "# print(roc_auc_score(y_train,p[:,1]))"
   ]
  },
  {
   "cell_type": "code",
   "execution_count": 77,
   "id": "dd91f6fa",
   "metadata": {},
   "outputs": [
    {
     "name": "stdout",
     "output_type": "stream",
     "text": [
      "              precision    recall  f1-score   support\n",
      "\n",
      "           0       0.80      0.79      0.79    190363\n",
      "           1       0.82      0.85      0.84    255247\n",
      "           2       0.81      0.86      0.84     32128\n",
      "           3       0.85      0.67      0.75      2480\n",
      "           4       0.77      0.41      0.54      8584\n",
      "           5       0.73      0.65      0.68     15643\n",
      "           6       0.90      0.79      0.84     18466\n",
      "\n",
      "    accuracy                           0.81    522911\n",
      "   macro avg       0.81      0.72      0.75    522911\n",
      "weighted avg       0.81      0.81      0.81    522911\n",
      "\n"
     ]
    }
   ],
   "source": [
    "print(classification_report(y_test, np.argmax(test_p,axis=1)))\n",
    "# print(roc_auc_score(y_test,test_p[:,1]))"
   ]
  },
  {
   "cell_type": "code",
   "execution_count": 78,
   "id": "da7c9225",
   "metadata": {},
   "outputs": [
    {
     "data": {
      "image/png": "[encoded data removed]",
      "text/plain": [
       "<Figure size 640x480 with 1 Axes>"
      ]
     },
     "metadata": {},
     "output_type": "display_data"
    },
    {
     "data": {
      "image/png": "[encoded data removed]",
      "text/plain": [
       "<Figure size 640x480 with 1 Axes>"
      ]
     },
     "metadata": {},
     "output_type": "display_data"
    }
   ],
   "source": [
    "from sklearn.preprocessing import minmax_scale\n",
    "acc = np.array(train_acc)\n",
    "\n",
    "# w = [np.sum(np.abs(grad_bin)) for node,node_param,grad_bin in stack[:i]]\n",
    "w = [np.sum(node.clf[1][1]) for node in stack]\n",
    "# w = [0]\n",
    "# for node in stack:\n",
    "#     w.append(w[-1]+np.sum(node.clf[1][1]))\n",
    "\n",
    "# w = minmax_scale(w)\n",
    "# m = minmax_scale(acc[1:i+1]-acc[:i])\n",
    "m = acc[:i]\n",
    "plt.plot(w)\n",
    "# plt.xscale('log')\n",
    "plt.show()\n",
    "plt.plot(m[1:]-m[:-1])\n",
    "plt.show()"
   ]
  },
  {
   "cell_type": "code",
   "execution_count": 79,
   "id": "53192483",
   "metadata": {},
   "outputs": [
    {
     "data": {
      "text/plain": [
       "[<matplotlib.lines.Line2D at 0x27d04b896d0>]"
      ]
     },
     "execution_count": 79,
     "metadata": {},
     "output_type": "execute_result"
    },
    {
     "data": {
      "image/png": "[encoded data removed]",
      "text/plain": [
       "<Figure size 640x480 with 1 Axes>"
      ]
     },
     "metadata": {},
     "output_type": "display_data"
    }
   ],
   "source": [
    "plt.plot(train_acc)\n",
    "plt.plot(test_acc)"
   ]
  },
  {
   "attachments": {},
   "cell_type": "markdown",
   "id": "7941764c",
   "metadata": {},
   "source": [
    "# XGboost"
   ]
  },
  {
   "cell_type": "code",
   "execution_count": 80,
   "id": "ca84b0e7",
   "metadata": {},
   "outputs": [],
   "source": [
    "import xgboost"
   ]
  },
  {
   "cell_type": "code",
   "execution_count": 81,
   "id": "a3f84104",
   "metadata": {},
   "outputs": [
    {
     "data": {
      "text/html": [
       "<style>#sk-container-id-3 {color: black;background-color: white;}#sk-container-id-3 pre{padding: 0;}#sk-container-id-3 div.sk-toggleable {background-color: white;}#sk-container-id-3 label.sk-toggleable__label {cursor: pointer;display: block;width: 100%;margin-bottom: 0;padding: 0.3em;box-sizing: border-box;text-align: center;}#sk-container-id-3 label.sk-toggleable__label-arrow:before {content: \"▸\";float: left;margin-right: 0.25em;color: #696969;}#sk-container-id-3 label.sk-toggleable__label-arrow:hover:before {color: black;}#sk-container-id-3 div.sk-estimator:hover label.sk-toggleable__label-arrow:before {color: black;}#sk-container-id-3 div.sk-toggleable__content {max-height: 0;max-width: 0;overflow: hidden;text-align: left;background-color: #f0f8ff;}#sk-container-id-3 div.sk-toggleable__content pre {margin: 0.2em;color: black;border-radius: 0.25em;background-color: #f0f8ff;}#sk-container-id-3 input.sk-toggleable__control:checked~div.sk-toggleable__content {max-height: 200px;max-width: 100%;overflow: auto;}#sk-container-id-3 input.sk-toggleable__control:checked~label.sk-toggleable__label-arrow:before {content: \"▾\";}#sk-container-id-3 div.sk-estimator input.sk-toggleable__control:checked~label.sk-toggleable__label {background-color: #d4ebff;}#sk-container-id-3 div.sk-label input.sk-toggleable__control:checked~label.sk-toggleable__label {background-color: #d4ebff;}#sk-container-id-3 input.sk-hidden--visually {border: 0;clip: rect(1px 1px 1px 1px);clip: rect(1px, 1px, 1px, 1px);height: 1px;margin: -1px;overflow: hidden;padding: 0;position: absolute;width: 1px;}#sk-container-id-3 div.sk-estimator {font-family: monospace;background-color: #f0f8ff;border: 1px dotted black;border-radius: 0.25em;box-sizing: border-box;margin-bottom: 0.5em;}#sk-container-id-3 div.sk-estimator:hover {background-color: #d4ebff;}#sk-container-id-3 div.sk-parallel-item::after {content: \"\";width: 100%;border-bottom: 1px solid gray;flex-grow: 1;}#sk-container-id-3 div.sk-label:hover label.sk-toggleable__label {background-color: #d4ebff;}#sk-container-id-3 div.sk-serial::before {content: \"\";position: absolute;border-left: 1px solid gray;box-sizing: border-box;top: 0;bottom: 0;left: 50%;z-index: 0;}#sk-container-id-3 div.sk-serial {display: flex;flex-direction: column;align-items: center;background-color: white;padding-right: 0.2em;padding-left: 0.2em;position: relative;}#sk-container-id-3 div.sk-item {position: relative;z-index: 1;}#sk-container-id-3 div.sk-parallel {display: flex;align-items: stretch;justify-content: center;background-color: white;position: relative;}#sk-container-id-3 div.sk-item::before, #sk-container-id-3 div.sk-parallel-item::before {content: \"\";position: absolute;border-left: 1px solid gray;box-sizing: border-box;top: 0;bottom: 0;left: 50%;z-index: -1;}#sk-container-id-3 div.sk-parallel-item {display: flex;flex-direction: column;z-index: 1;position: relative;background-color: white;}#sk-container-id-3 div.sk-parallel-item:first-child::after {align-self: flex-end;width: 50%;}#sk-container-id-3 div.sk-parallel-item:last-child::after {align-self: flex-start;width: 50%;}#sk-container-id-3 div.sk-parallel-item:only-child::after {width: 0;}#sk-container-id-3 div.sk-dashed-wrapped {border: 1px dashed gray;margin: 0 0.4em 0.5em 0.4em;box-sizing: border-box;padding-bottom: 0.4em;background-color: white;}#sk-container-id-3 div.sk-label label {font-family: monospace;font-weight: bold;display: inline-block;line-height: 1.2em;}#sk-container-id-3 div.sk-label-container {text-align: center;}#sk-container-id-3 div.sk-container {/* jupyter's `normalize.less` sets `[hidden] { display: none; }` but bootstrap.min.css set `[hidden] { display: none !important; }` so we also need the `!important` here to be able to override the default hidden behavior on the sphinx rendered scikit-learn.org. See: https://github.com/scikit-learn/scikit-learn/issues/21755 */display: inline-block !important;position: relative;}#sk-container-id-3 div.sk-text-repr-fallback {display: none;}</style><div id=\"sk-container-id-3\" class=\"sk-top-container\"><div class=\"sk-text-repr-fallback\"><pre>XGBClassifier(base_score=None, booster=None, callbacks=None,\n",
       "              colsample_bylevel=None, colsample_bynode=None,\n",
       "              colsample_bytree=None, early_stopping_rounds=None,\n",
       "              enable_categorical=False, eval_metric=None, feature_types=None,\n",
       "              gamma=None, gpu_id=None, grow_policy=None, importance_type=None,\n",
       "              interaction_constraints=None, learning_rate=None, max_bin=None,\n",
       "              max_cat_threshold=None, max_cat_to_onehot=None,\n",
       "              max_delta_step=None, max_depth=None, max_leaves=None,\n",
       "              min_child_weight=None, missing=nan, monotone_constraints=None,\n",
       "              n_estimators=100, n_jobs=None, num_parallel_tree=None,\n",
       "              objective=&#x27;multi:softprob&#x27;, predictor=None, ...)</pre><b>In a Jupyter environment, please rerun this cell to show the HTML representation or trust the notebook. <br />On GitHub, the HTML representation is unable to render, please try loading this page with nbviewer.org.</b></div><div class=\"sk-container\" hidden><div class=\"sk-item\"><div class=\"sk-estimator sk-toggleable\"><input class=\"sk-toggleable__control sk-hidden--visually\" id=\"sk-estimator-id-3\" type=\"checkbox\" checked><label for=\"sk-estimator-id-3\" class=\"sk-toggleable__label sk-toggleable__label-arrow\">XGBClassifier</label><div class=\"sk-toggleable__content\"><pre>XGBClassifier(base_score=None, booster=None, callbacks=None,\n",
       "              colsample_bylevel=None, colsample_bynode=None,\n",
       "              colsample_bytree=None, early_stopping_rounds=None,\n",
       "              enable_categorical=False, eval_metric=None, feature_types=None,\n",
       "              gamma=None, gpu_id=None, grow_policy=None, importance_type=None,\n",
       "              interaction_constraints=None, learning_rate=None, max_bin=None,\n",
       "              max_cat_threshold=None, max_cat_to_onehot=None,\n",
       "              max_delta_step=None, max_depth=None, max_leaves=None,\n",
       "              min_child_weight=None, missing=nan, monotone_constraints=None,\n",
       "              n_estimators=100, n_jobs=None, num_parallel_tree=None,\n",
       "              objective=&#x27;multi:softprob&#x27;, predictor=None, ...)</pre></div></div></div></div></div>"
      ],
      "text/plain": [
       "XGBClassifier(base_score=None, booster=None, callbacks=None,\n",
       "              colsample_bylevel=None, colsample_bynode=None,\n",
       "              colsample_bytree=None, early_stopping_rounds=None,\n",
       "              enable_categorical=False, eval_metric=None, feature_types=None,\n",
       "              gamma=None, gpu_id=None, grow_policy=None, importance_type=None,\n",
       "              interaction_constraints=None, learning_rate=None, max_bin=None,\n",
       "              max_cat_threshold=None, max_cat_to_onehot=None,\n",
       "              max_delta_step=None, max_depth=None, max_leaves=None,\n",
       "              min_child_weight=None, missing=nan, monotone_constraints=None,\n",
       "              n_estimators=100, n_jobs=None, num_parallel_tree=None,\n",
       "              objective='multi:softprob', predictor=None, ...)"
      ]
     },
     "execution_count": 81,
     "metadata": {},
     "output_type": "execute_result"
    }
   ],
   "source": [
    "xgb = xgboost.XGBClassifier(n_estimators=100)\n",
    "xgb.fit(X_train,y_train)"
   ]
  },
  {
   "cell_type": "code",
   "execution_count": 83,
   "id": "23865252",
   "metadata": {},
   "outputs": [
    {
     "name": "stdout",
     "output_type": "stream",
     "text": [
      "              precision    recall  f1-score   support\n",
      "\n",
      "           0      0.886     0.868     0.877     21477\n",
      "           1      0.891     0.913     0.902     28054\n",
      "           2      0.970     0.972     0.971      3626\n",
      "           3      1.000     1.000     1.000       267\n",
      "           4      0.968     0.738     0.838       909\n",
      "           5      0.958     0.948     0.953      1724\n",
      "           6      0.989     0.977     0.983      2044\n",
      "\n",
      "    accuracy                          0.901     58101\n",
      "   macro avg      0.952     0.917     0.932     58101\n",
      "weighted avg      0.902     0.901     0.901     58101\n",
      "\n",
      "              precision    recall  f1-score   support\n",
      "\n",
      "           0      0.838     0.829     0.833    190363\n",
      "           1      0.853     0.879     0.866    255247\n",
      "           2      0.861     0.886     0.873     32128\n",
      "           3      0.884     0.746     0.809      2480\n",
      "           4      0.847     0.477     0.611      8584\n",
      "           5      0.789     0.738     0.763     15643\n",
      "           6      0.929     0.853     0.890     18466\n",
      "\n",
      "    accuracy                          0.849    522911\n",
      "   macro avg      0.857     0.773     0.806    522911\n",
      "weighted avg      0.849     0.849     0.848    522911\n",
      "\n"
     ]
    }
   ],
   "source": [
    "pred = xgb.predict_proba(X_train)\n",
    "\n",
    "pred = np.argmax(pred,axis=1)\n",
    "print(classification_report(y_train,pred,digits=3))\n",
    "\n",
    "pred = xgb.predict_proba(X_train)\n",
    "pred = pred[:,1]\n",
    "# print(roc_auc_score(y_train,pred))\n",
    "\n",
    "pred = xgb.predict_proba(X_test)\n",
    "\n",
    "pred = np.argmax(pred,axis=1)\n",
    "print(classification_report(y_test,pred,digits=3))\n",
    "\n",
    "pred = xgb.predict_proba(X_test)\n",
    "pred = pred[:,1]\n",
    "# print(roc_auc_score(y_test,pred))"
   ]
  },
  {
   "cell_type": "code",
   "execution_count": 84,
   "id": "27a73c73",
   "metadata": {},
   "outputs": [
    {
     "data": {
      "text/html": [
       "<div>\n",
       "<style scoped>\n",
       "    .dataframe tbody tr th:only-of-type {\n",
       "        vertical-align: middle;\n",
       "    }\n",
       "\n",
       "    .dataframe tbody tr th {\n",
       "        vertical-align: top;\n",
       "    }\n",
       "\n",
       "    .dataframe thead th {\n",
       "        text-align: right;\n",
       "    }\n",
       "</style>\n",
       "<table border=\"1\" class=\"dataframe\">\n",
       "  <thead>\n",
       "    <tr style=\"text-align: right;\">\n",
       "      <th></th>\n",
       "      <th>Tree</th>\n",
       "      <th>Node</th>\n",
       "      <th>ID</th>\n",
       "      <th>Feature</th>\n",
       "      <th>Split</th>\n",
       "      <th>Yes</th>\n",
       "      <th>No</th>\n",
       "      <th>Missing</th>\n",
       "      <th>Gain</th>\n",
       "      <th>Cover</th>\n",
       "      <th>Category</th>\n",
       "    </tr>\n",
       "  </thead>\n",
       "  <tbody>\n",
       "    <tr>\n",
       "      <th>0</th>\n",
       "      <td>0</td>\n",
       "      <td>0</td>\n",
       "      <td>0-0</td>\n",
       "      <td>f0</td>\n",
       "      <td>3023.5</td>\n",
       "      <td>0-1</td>\n",
       "      <td>0-2</td>\n",
       "      <td>0-1</td>\n",
       "      <td>12462.416000</td>\n",
       "      <td>14228.817400</td>\n",
       "      <td>NaN</td>\n",
       "    </tr>\n",
       "    <tr>\n",
       "      <th>1</th>\n",
       "      <td>0</td>\n",
       "      <td>1</td>\n",
       "      <td>0-1</td>\n",
       "      <td>f0</td>\n",
       "      <td>2787.5</td>\n",
       "      <td>0-3</td>\n",
       "      <td>0-4</td>\n",
       "      <td>0-3</td>\n",
       "      <td>1230.060670</td>\n",
       "      <td>7725.796390</td>\n",
       "      <td>NaN</td>\n",
       "    </tr>\n",
       "    <tr>\n",
       "      <th>2</th>\n",
       "      <td>0</td>\n",
       "      <td>2</td>\n",
       "      <td>0-2</td>\n",
       "      <td>f0</td>\n",
       "      <td>3065.5</td>\n",
       "      <td>0-5</td>\n",
       "      <td>0-6</td>\n",
       "      <td>0-5</td>\n",
       "      <td>494.205078</td>\n",
       "      <td>6503.021000</td>\n",
       "      <td>NaN</td>\n",
       "    </tr>\n",
       "    <tr>\n",
       "      <th>3</th>\n",
       "      <td>0</td>\n",
       "      <td>3</td>\n",
       "      <td>0-3</td>\n",
       "      <td>f5</td>\n",
       "      <td>2835.5</td>\n",
       "      <td>0-7</td>\n",
       "      <td>0-8</td>\n",
       "      <td>0-7</td>\n",
       "      <td>97.239136</td>\n",
       "      <td>3257.387940</td>\n",
       "      <td>NaN</td>\n",
       "    </tr>\n",
       "    <tr>\n",
       "      <th>4</th>\n",
       "      <td>0</td>\n",
       "      <td>4</td>\n",
       "      <td>0-4</td>\n",
       "      <td>f3</td>\n",
       "      <td>92.5</td>\n",
       "      <td>0-9</td>\n",
       "      <td>0-10</td>\n",
       "      <td>0-9</td>\n",
       "      <td>515.172363</td>\n",
       "      <td>4468.408690</td>\n",
       "      <td>NaN</td>\n",
       "    </tr>\n",
       "    <tr>\n",
       "      <th>...</th>\n",
       "      <td>...</td>\n",
       "      <td>...</td>\n",
       "      <td>...</td>\n",
       "      <td>...</td>\n",
       "      <td>...</td>\n",
       "      <td>...</td>\n",
       "      <td>...</td>\n",
       "      <td>...</td>\n",
       "      <td>...</td>\n",
       "      <td>...</td>\n",
       "      <td>...</td>\n",
       "    </tr>\n",
       "    <tr>\n",
       "      <th>43615</th>\n",
       "      <td>699</td>\n",
       "      <td>98</td>\n",
       "      <td>699-98</td>\n",
       "      <td>Leaf</td>\n",
       "      <td>NaN</td>\n",
       "      <td>NaN</td>\n",
       "      <td>NaN</td>\n",
       "      <td>NaN</td>\n",
       "      <td>0.146271</td>\n",
       "      <td>9.169310</td>\n",
       "      <td>NaN</td>\n",
       "    </tr>\n",
       "    <tr>\n",
       "      <th>43616</th>\n",
       "      <td>699</td>\n",
       "      <td>99</td>\n",
       "      <td>699-99</td>\n",
       "      <td>Leaf</td>\n",
       "      <td>NaN</td>\n",
       "      <td>NaN</td>\n",
       "      <td>NaN</td>\n",
       "      <td>NaN</td>\n",
       "      <td>-0.079653</td>\n",
       "      <td>8.600679</td>\n",
       "      <td>NaN</td>\n",
       "    </tr>\n",
       "    <tr>\n",
       "      <th>43617</th>\n",
       "      <td>699</td>\n",
       "      <td>100</td>\n",
       "      <td>699-100</td>\n",
       "      <td>Leaf</td>\n",
       "      <td>NaN</td>\n",
       "      <td>NaN</td>\n",
       "      <td>NaN</td>\n",
       "      <td>NaN</td>\n",
       "      <td>0.094662</td>\n",
       "      <td>1.463033</td>\n",
       "      <td>NaN</td>\n",
       "    </tr>\n",
       "    <tr>\n",
       "      <th>43618</th>\n",
       "      <td>699</td>\n",
       "      <td>101</td>\n",
       "      <td>699-101</td>\n",
       "      <td>Leaf</td>\n",
       "      <td>NaN</td>\n",
       "      <td>NaN</td>\n",
       "      <td>NaN</td>\n",
       "      <td>NaN</td>\n",
       "      <td>0.058399</td>\n",
       "      <td>13.785927</td>\n",
       "      <td>NaN</td>\n",
       "    </tr>\n",
       "    <tr>\n",
       "      <th>43619</th>\n",
       "      <td>699</td>\n",
       "      <td>102</td>\n",
       "      <td>699-102</td>\n",
       "      <td>Leaf</td>\n",
       "      <td>NaN</td>\n",
       "      <td>NaN</td>\n",
       "      <td>NaN</td>\n",
       "      <td>NaN</td>\n",
       "      <td>-0.070105</td>\n",
       "      <td>1.846027</td>\n",
       "      <td>NaN</td>\n",
       "    </tr>\n",
       "  </tbody>\n",
       "</table>\n",
       "<p>43620 rows × 11 columns</p>\n",
       "</div>"
      ],
      "text/plain": [
       "       Tree  Node       ID Feature   Split  Yes    No Missing          Gain  \\\n",
       "0         0     0      0-0      f0  3023.5  0-1   0-2     0-1  12462.416000   \n",
       "1         0     1      0-1      f0  2787.5  0-3   0-4     0-3   1230.060670   \n",
       "2         0     2      0-2      f0  3065.5  0-5   0-6     0-5    494.205078   \n",
       "3         0     3      0-3      f5  2835.5  0-7   0-8     0-7     97.239136   \n",
       "4         0     4      0-4      f3    92.5  0-9  0-10     0-9    515.172363   \n",
       "...     ...   ...      ...     ...     ...  ...   ...     ...           ...   \n",
       "43615   699    98   699-98    Leaf     NaN  NaN   NaN     NaN      0.146271   \n",
       "43616   699    99   699-99    Leaf     NaN  NaN   NaN     NaN     -0.079653   \n",
       "43617   699   100  699-100    Leaf     NaN  NaN   NaN     NaN      0.094662   \n",
       "43618   699   101  699-101    Leaf     NaN  NaN   NaN     NaN      0.058399   \n",
       "43619   699   102  699-102    Leaf     NaN  NaN   NaN     NaN     -0.070105   \n",
       "\n",
       "              Cover  Category  \n",
       "0      14228.817400       NaN  \n",
       "1       7725.796390       NaN  \n",
       "2       6503.021000       NaN  \n",
       "3       3257.387940       NaN  \n",
       "4       4468.408690       NaN  \n",
       "...             ...       ...  \n",
       "43615      9.169310       NaN  \n",
       "43616      8.600679       NaN  \n",
       "43617      1.463033       NaN  \n",
       "43618     13.785927       NaN  \n",
       "43619      1.846027       NaN  \n",
       "\n",
       "[43620 rows x 11 columns]"
      ]
     },
     "execution_count": 84,
     "metadata": {},
     "output_type": "execute_result"
    }
   ],
   "source": [
    "xgb.get_booster().trees_to_dataframe()"
   ]
  },
  {
   "attachments": {},
   "cell_type": "markdown",
   "id": "b222abf9",
   "metadata": {},
   "source": [
    "# Gradient Boosting"
   ]
  },
  {
   "cell_type": "code",
   "execution_count": 15,
   "id": "e6d611a3",
   "metadata": {},
   "outputs": [],
   "source": [
    "from sklearn.ensemble import GradientBoostingClassifier"
   ]
  },
  {
   "cell_type": "code",
   "execution_count": 24,
   "id": "82911c53",
   "metadata": {},
   "outputs": [],
   "source": [
    "clf = GradientBoostingClassifier(n_estimators=1000).fit(X_train, y_train)"
   ]
  },
  {
   "cell_type": "code",
   "execution_count": 21,
   "id": "9420b0cf",
   "metadata": {},
   "outputs": [
    {
     "ename": "ValueError",
     "evalue": "multi_class must be in ('ovo', 'ovr')",
     "output_type": "error",
     "traceback": [
      "\u001b[1;31m---------------------------------------------------------------------------\u001b[0m",
      "\u001b[1;31mValueError\u001b[0m                                Traceback (most recent call last)",
      "Cell \u001b[1;32mIn[21], line 3\u001b[0m\n\u001b[0;32m      1\u001b[0m pred \u001b[39m=\u001b[39m clf\u001b[39m.\u001b[39mpredict_proba(X_train)\n\u001b[0;32m      2\u001b[0m pred \u001b[39m=\u001b[39m pred[:,\u001b[39m1\u001b[39m]\n\u001b[1;32m----> 3\u001b[0m \u001b[39mprint\u001b[39m(roc_auc_score(y_train,pred))\n",
      "File \u001b[1;32mc:\\Users\\zhouz\\miniconda3\\envs\\BStackGP\\Lib\\site-packages\\sklearn\\metrics\\_ranking.py:565\u001b[0m, in \u001b[0;36mroc_auc_score\u001b[1;34m(y_true, y_score, average, sample_weight, max_fpr, multi_class, labels)\u001b[0m\n\u001b[0;32m    558\u001b[0m         \u001b[39mraise\u001b[39;00m \u001b[39mValueError\u001b[39;00m(\n\u001b[0;32m    559\u001b[0m             \u001b[39m\"\u001b[39m\u001b[39mPartial AUC computation not available in \u001b[39m\u001b[39m\"\u001b[39m\n\u001b[0;32m    560\u001b[0m             \u001b[39m\"\u001b[39m\u001b[39mmulticlass setting, \u001b[39m\u001b[39m'\u001b[39m\u001b[39mmax_fpr\u001b[39m\u001b[39m'\u001b[39m\u001b[39m must be\u001b[39m\u001b[39m\"\u001b[39m\n\u001b[0;32m    561\u001b[0m             \u001b[39m\"\u001b[39m\u001b[39m set to `None`, received `max_fpr=\u001b[39m\u001b[39m{0}\u001b[39;00m\u001b[39m` \u001b[39m\u001b[39m\"\u001b[39m\n\u001b[0;32m    562\u001b[0m             \u001b[39m\"\u001b[39m\u001b[39minstead\u001b[39m\u001b[39m\"\u001b[39m\u001b[39m.\u001b[39mformat(max_fpr)\n\u001b[0;32m    563\u001b[0m         )\n\u001b[0;32m    564\u001b[0m     \u001b[39mif\u001b[39;00m multi_class \u001b[39m==\u001b[39m \u001b[39m\"\u001b[39m\u001b[39mraise\u001b[39m\u001b[39m\"\u001b[39m:\n\u001b[1;32m--> 565\u001b[0m         \u001b[39mraise\u001b[39;00m \u001b[39mValueError\u001b[39;00m(\u001b[39m\"\u001b[39m\u001b[39mmulti_class must be in (\u001b[39m\u001b[39m'\u001b[39m\u001b[39movo\u001b[39m\u001b[39m'\u001b[39m\u001b[39m, \u001b[39m\u001b[39m'\u001b[39m\u001b[39movr\u001b[39m\u001b[39m'\u001b[39m\u001b[39m)\u001b[39m\u001b[39m\"\u001b[39m)\n\u001b[0;32m    566\u001b[0m     \u001b[39mreturn\u001b[39;00m _multiclass_roc_auc_score(\n\u001b[0;32m    567\u001b[0m         y_true, y_score, labels, multi_class, average, sample_weight\n\u001b[0;32m    568\u001b[0m     )\n\u001b[0;32m    569\u001b[0m \u001b[39melif\u001b[39;00m y_type \u001b[39m==\u001b[39m \u001b[39m\"\u001b[39m\u001b[39mbinary\u001b[39m\u001b[39m\"\u001b[39m:\n",
      "\u001b[1;31mValueError\u001b[0m: multi_class must be in ('ovo', 'ovr')"
     ]
    }
   ],
   "source": [
    "pred = clf.predict_proba(X_train)\n",
    "pred = pred[:,1]\n",
    "print(roc_auc_score(y_train,pred))"
   ]
  },
  {
   "cell_type": "code",
   "execution_count": null,
   "id": "7313454d",
   "metadata": {},
   "outputs": [],
   "source": [
    "pred = clf.predict_proba(X_test)\n",
    "pred = pred[:,1]\n",
    "print(roc_auc_score(y_test,pred))"
   ]
  },
  {
   "cell_type": "code",
   "execution_count": 25,
   "id": "468d7659",
   "metadata": {},
   "outputs": [
    {
     "name": "stdout",
     "output_type": "stream",
     "text": [
      "              precision    recall  f1-score   support\n",
      "\n",
      "           0      0.875     0.856     0.866     21421\n",
      "           1      0.882     0.907     0.894     28284\n",
      "           2      0.967     0.954     0.961      3542\n",
      "           3      1.000     1.000     1.000       278\n",
      "           4      0.975     0.798     0.878       878\n",
      "           5      0.944     0.910     0.927      1671\n",
      "           6      0.982     0.932     0.956      2027\n",
      "\n",
      "    accuracy                          0.891     58101\n",
      "   macro avg      0.946     0.908     0.926     58101\n",
      "weighted avg      0.892     0.891     0.891     58101\n",
      "\n"
     ]
    }
   ],
   "source": [
    "pred = clf.predict(X_train)\n",
    "print(classification_report(y_train,pred,digits=3))"
   ]
  },
  {
   "cell_type": "code",
   "execution_count": 26,
   "id": "dea07ad3",
   "metadata": {},
   "outputs": [
    {
     "name": "stdout",
     "output_type": "stream",
     "text": [
      "              precision    recall  f1-score   support\n",
      "\n",
      "           0      0.830     0.818     0.824    190419\n",
      "           1      0.843     0.874     0.858    255017\n",
      "           2      0.847     0.864     0.855     32212\n",
      "           3      0.823     0.740     0.779      2469\n",
      "           4      0.810     0.475     0.599      8615\n",
      "           5      0.755     0.687     0.719     15696\n",
      "           6      0.909     0.813     0.858     18483\n",
      "\n",
      "    accuracy                          0.838    522911\n",
      "   macro avg      0.831     0.753     0.785    522911\n",
      "weighted avg      0.838     0.838     0.837    522911\n",
      "\n"
     ]
    }
   ],
   "source": [
    "pred = clf.predict(X_test)\n",
    "print(classification_report(y_test,pred,digits=3))"
   ]
  },
  {
   "cell_type": "code",
   "execution_count": null,
   "id": "c1ed36b3",
   "metadata": {},
   "outputs": [],
   "source": [
    "w = [0]\n",
    "\n",
    "for e in clf.estimators_:\n",
    "    a = e[0]\n",
    "    w.append(w[-1] + np.sum(a.tree_.value))"
   ]
  },
  {
   "cell_type": "code",
   "execution_count": null,
   "id": "92f5118b",
   "metadata": {},
   "outputs": [],
   "source": [
    "plt.plot(w)"
   ]
  },
  {
   "attachments": {},
   "cell_type": "markdown",
   "id": "a88b10ee",
   "metadata": {},
   "source": [
    "# Result"
   ]
  },
  {
   "attachments": {},
   "cell_type": "markdown",
   "id": "4f087f87",
   "metadata": {},
   "source": [
    "## CoverType"
   ]
  },
  {
   "attachments": {},
   "cell_type": "markdown",
   "id": "9f584528",
   "metadata": {},
   "source": [
    "# Higgs"
   ]
  },
  {
   "cell_type": "code",
   "execution_count": null,
   "id": "a064f3ca",
   "metadata": {},
   "outputs": [
    {
     "data": {
      "text/plain": [
       "1     10474\n",
       "2     10162\n",
       "3      9116\n",
       "4      7430\n",
       "5      5444\n",
       "6      3623\n",
       "7      2027\n",
       "8      1045\n",
       "9       455\n",
       "10      147\n",
       "11       56\n",
       "12       15\n",
       "13        2\n",
       "14        2\n",
       "15        2\n",
       "dtype: int64"
      ]
     },
     "execution_count": 121,
     "metadata": {},
     "output_type": "execute_result"
    }
   ],
   "source": [
    "pd.value_counts([node.depth for node in stack])"
   ]
  },
  {
   "cell_type": "code",
   "execution_count": null,
   "id": "4ce9082d",
   "metadata": {},
   "outputs": [
    {
     "data": {
      "text/plain": [
       "3      10474\n",
       "5       8779\n",
       "7       6702\n",
       "9       5288\n",
       "11      3927\n",
       "13      3066\n",
       "15      2501\n",
       "17      1975\n",
       "19      1586\n",
       "21      1180\n",
       "23       935\n",
       "25       768\n",
       "27       592\n",
       "29       443\n",
       "31       330\n",
       "33       276\n",
       "35       209\n",
       "37       178\n",
       "39       146\n",
       "41       110\n",
       "43        96\n",
       "45        76\n",
       "47        73\n",
       "49        62\n",
       "51        41\n",
       "53        39\n",
       "55        38\n",
       "57        25\n",
       "65        15\n",
       "59        11\n",
       "63        10\n",
       "61         8\n",
       "67         6\n",
       "77         6\n",
       "71         6\n",
       "79         4\n",
       "83         3\n",
       "87         3\n",
       "73         3\n",
       "107        2\n",
       "95         1\n",
       "105        1\n",
       "97         1\n",
       "69         1\n",
       "85         1\n",
       "109        1\n",
       "75         1\n",
       "111        1\n",
       "dtype: int64"
      ]
     },
     "execution_count": 122,
     "metadata": {},
     "output_type": "execute_result"
    }
   ],
   "source": [
    "pd.value_counts([node.numNode for node in stack])"
   ]
  },
  {
   "cell_type": "code",
   "execution_count": null,
   "id": "64abafc9",
   "metadata": {},
   "outputs": [
    {
     "data": {
      "text/plain": [
       "(2.495, 3.3331224489795916)"
      ]
     },
     "execution_count": 123,
     "metadata": {},
     "output_type": "execute_result"
    }
   ],
   "source": [
    "np.average([node.depth for node in stack[:1000]]),np.average([node.depth for node in stack[1000:]])"
   ]
  },
  {
   "cell_type": "code",
   "execution_count": null,
   "id": "61db0124",
   "metadata": {},
   "outputs": [
    {
     "data": {
      "text/plain": [
       "(7.56, 10.449551020408164)"
      ]
     },
     "execution_count": 124,
     "metadata": {},
     "output_type": "execute_result"
    }
   ],
   "source": [
    "np.average([node.numNode for node in stack[:1000]]),np.average([node.numNode for node in stack[1000:]])"
   ]
  },
  {
   "cell_type": "code",
   "execution_count": null,
   "id": "1a0fbd99",
   "metadata": {},
   "outputs": [
    {
     "name": "stdout",
     "output_type": "stream",
     "text": [
      "0.7862846424520893\n"
     ]
    }
   ],
   "source": [
    "test_pred = predict(X_test,init_log_odds,init_p,learning_rate,stack)\n",
    "# test_pred = np.argmax(test_pred,axis=1)\n",
    "# print(classification_report(y_test,test_pred))\n",
    "\n",
    "test_pred = test_pred[:,1]\n",
    "print(roc_auc_score(y_test,test_pred))"
   ]
  },
  {
   "cell_type": "code",
   "execution_count": null,
   "id": "4988cf97",
   "metadata": {},
   "outputs": [],
   "source": [
    "pred = predict(X_train,init_log_odds,init_p,learning_rate,stack)\n",
    "# print(classification_report(y_train,pred))\n",
    "pred = pred[:,1]\n",
    "print(roc_auc_score(y_train,pred))\n",
    "\n",
    "pred = predict(X_test,init_log_odds,init_p,learning_rate,stack)\n",
    "# pred = np.argmax(pred,axis=1)\n",
    "# print(classification_report(y_test,pred))\n",
    "\n",
    "pred = pred[:,1]\n",
    "print(roc_auc_score(y_test,pred))"
   ]
  },
  {
   "cell_type": "code",
   "execution_count": null,
   "id": "ca30fd6c",
   "metadata": {},
   "outputs": [],
   "source": [
    "from sklearn.preprocessing import minmax_scale\n",
    "acc = np.array(train_acc)\n",
    "\n",
    "# w = [np.sum(np.abs(grad_bin)) for node,node_param,grad_bin in stack[:i]]\n",
    "w = [np.sum(node.clf[1][1]) for node in stack]\n",
    "# w = [0]\n",
    "# for node in stack:\n",
    "#     w.append(w[-1]+np.sum(node.clf[1][1]))\n",
    "\n",
    "# w = minmax_scale(w)\n",
    "# m = minmax_scale(acc[1:i+1]-acc[:i])\n",
    "m = acc[:i]\n",
    "plt.plot(w)\n",
    "# plt.xscale('log')\n",
    "plt.show()\n",
    "plt.plot(m[1:]-m[:-1])\n",
    "plt.show()"
   ]
  },
  {
   "cell_type": "code",
   "execution_count": null,
   "id": "fcf11b03",
   "metadata": {},
   "outputs": [],
   "source": [
    "plt.plot(train_acc)\n",
    "plt.plot(test_acc)"
   ]
  }
 ],
 "metadata": {
  "kernelspec": {
   "display_name": "BStackGP",
   "language": "python",
   "name": "python3"
  },
  "language_info": {
   "codemirror_mode": {
    "name": "ipython",
    "version": 3
   },
   "file_extension": ".py",
   "mimetype": "text/x-python",
   "name": "python",
   "nbconvert_exporter": "python",
   "pygments_lexer": "ipython3",
   "version": "3.11.0"
  },
  "toc-autonumbering": true,
  "toc-showcode": true,
  "toc-showmarkdowntxt": true,
  "vscode": {
   "interpreter": {
    "hash": "598cefc26d6e5a65b2978c65314d0610ea9dfe34c7d989c4b6d2528d500ccb7a"
   }
  }
 },
 "nbformat": 4,
 "nbformat_minor": 5
}
